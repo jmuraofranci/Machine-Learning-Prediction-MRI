{
 "cells": [
  {
   "cell_type": "markdown",
   "id": "ebe76eac",
   "metadata": {},
   "source": [
    "# Machine Learning–Based Prediction of Structural MRI Measures from Military Environmental Exposures in Veterans"
   ]
  },
  {
   "cell_type": "markdown",
   "id": "8d347520",
   "metadata": {
    "id": "8d347520"
   },
   "source": [
    "## 1. Data cleaning"
   ]
  },
  {
   "cell_type": "code",
   "execution_count": 4,
   "id": "21bdd902",
   "metadata": {
    "id": "21bdd902"
   },
   "outputs": [],
   "source": [
    "import numpy as np\n",
    "import pandas as pd\n"
   ]
  },
  {
   "cell_type": "markdown",
   "id": "c9ff0405",
   "metadata": {},
   "source": [
    "### 1a. Load Data"
   ]
  },
  {
   "cell_type": "code",
   "execution_count": 5,
   "id": "fd8845c0",
   "metadata": {},
   "outputs": [],
   "source": [
    "#Load original data\n",
    "def load_data(filepath):\n",
    "    path = filepath\n",
    "    df = pd.read_csv(path)\n",
    "    return df\n",
    "     \n",
    "#load_data(r'WRIISC_data\\me_data.csv')\n",
    "#load_data(r'WRIISC_data\\mri_data.csv')"
   ]
  },
  {
   "cell_type": "code",
   "execution_count": 6,
   "id": "1230e961",
   "metadata": {},
   "outputs": [],
   "source": [
    "#Create copy of original data\n",
    "def create_copy(path):\n",
    "    data = load_data(path)\n",
    "    df = data.copy()\n",
    "    return df"
   ]
  },
  {
   "cell_type": "code",
   "execution_count": null,
   "id": "7ba4172e",
   "metadata": {},
   "outputs": [],
   "source": [
    "# Create a copy of Intake Packet\n",
    "df_intake = create_copy(r'WRIISC_data\\intake_packet.csv') "
   ]
  },
  {
   "cell_type": "markdown",
   "id": "59f2fb73",
   "metadata": {},
   "source": [
    "#### Extract exposure (binary) columns"
   ]
  },
  {
   "cell_type": "code",
   "execution_count": null,
   "id": "dfb7450e",
   "metadata": {},
   "outputs": [],
   "source": [
    "# Extract military exposure ('expo_') columns AND 'WCA' column\n",
    "# First check the columns\n",
    "me_columns = [col for col in df_intake.columns if col.startswith('expo_') or col == 'WCA']"
   ]
  },
  {
   "cell_type": "code",
   "execution_count": null,
   "id": "9ca02d32",
   "metadata": {},
   "outputs": [],
   "source": [
    "# Extract columns only before 'expo_meta_c'\n",
    "if 'expo_meta_c' in df_intake.columns:\n",
    "    idx = df_intake.columns.get_loc('expo_meta_c')\n",
    "    me_columns = df_intake.columns[:idx + 1].tolist()  \n",
    "else:\n",
    "    print(\"'expo_meta_c' not found in DataFrame columns.\")\n"
   ]
  },
  {
   "cell_type": "code",
   "execution_count": 12,
   "id": "b0c8729f",
   "metadata": {},
   "outputs": [
    {
     "name": "stdout",
     "output_type": "stream",
     "text": [
      "['ID', 'WCA', 'dem_dob', 'dem_sex', 'dem_datecom', 'dem_race01', 'dem_race02', 'dem_race03', 'dem_race04', 'dem_race05', 'dem_race06', 'dem_race07', 'dem_raceoth', 'dem_ethnic', 'dem_educ_str', 'dem_educ', 'dem_educ01', 'dem_educ02', 'dem_educ03', 'dem_educ04', 'dem_educ05', 'dem_educ06', 'dem_educ07', 'dem_educ08', 'dem_educ09', 'dem_educ_oth', 'dem_lang1', 'dem_lang2', 'dem_marital', 'dem_mar_length', 'dem_mar_times', 'dem_mar_health', 'dem_emp01', 'dem_emp02', 'dem_emp03', 'dem_emp04', 'dem_emp05', 'dem_emp06', 'dem_emp07', 'dem_emp08', 'dem_emp_oth', 'dem_handed', 'mil_branch01_start', 'mil_branch01_end', 'mil_branch02_start', 'mil_branch02_end', 'mil_branch03_start', 'mil_branch03_end', 'mil_branch04_start', 'mil_branch04_end', 'mil_branch05_start', 'mil_branch05_end', 'mil_branch06_start', 'mil_branch06_end', 'mil_branch07_start', 'mil_branch07_end', 'mil_branch08_start', 'mil_branch08_end', 'mil_branch09_start', 'mil_branch09_end', 'mil_branch10_start', 'mil_branch10_end', 'mil_branch11_start', 'mil_branch11_end', 'mil_branch12_start', 'mil_branch12_end', 'mil_branch13_start', 'mil_branch13_end', 'mil_branch14_start', 'mil_branch14_end', 'mil_pay_grade', 'mil_occ1_desc', 'mil_occ1_start', 'mil_occ1_end', 'mil_occ2_desc', 'mil_occ2_start', 'mil_occ2_end', 'mil_occ3_desc', 'mil_occ3_start', 'mil_occ3_end', 'mil_unit_names', 'mil_unit_0', 'mil_unit_1', 'mil_unit_2', 'mil_area_1', 'mil_area_2', 'mil_area_3', 'mil_area_4', 'mil_area_5', 'mil_area_oth', 'mil_discharge', 'mil_pow', 'mil_dep1_start', 'mil_dep1_end', 'mil_dep1_loc', 'mil_dep1_conflict', 'mil_dep1_job', 'mil_dep2_start', 'mil_dep2_end', 'mil_dep2_loc', 'mil_dep2_conflict', 'mil_dep2_job', 'mil_dep3_start', 'mil_dep3_end', 'mil_dep3_loc', 'mil_dep3_conflict', 'mil_dep3_job', 'mil_dep4_start', 'mil_dep4_end', 'mil_dep4_loc', 'mil_dep4_conflict', 'mil_dep4_job', 'mil_dep5_start', 'mil_dep5_end', 'mil_dep5_loc', 'mil_dep5_conflict', 'mil_dep5_job', 'mil_dep_conflict_oth', 'concern1', 'concern2', 'concern3', 'ros_palp', 'ros_sob', 'ros_wheez', 'ros_headac', 'ros_faint', 'ros_paraly', 'ros_musc', 'ros_urine', 'ros_blurine', 'ros_std', 'ros_neck', 'ros_limb', 'ros_nausea', 'ros_gi', 'ros_diarr', 'ros_weight', 'ros_gas', 'ros_temp', 'ros_sleep', 'ros_tempsen', 'ros_skin', 'ros_chest', 'ros_cough', 'ros_dizzy', 'ros_numb', 'ros_eyes', 'ros_taste', 'ros_seize', 'ros_niteuri', 'ros_sexual', 'ros_back', 'ros_swell', 'ros_swallow', 'ros_constip', 'ros_appet', 'ros_teeth', 'ros_stool', 'ros_shaky', 'ros_sweat', 'ros_fever', 'ros_gland', 'ros_conc', 'ros_mem', 'ros_dec', 'ros_irr', 'ros_risk', 'ros_hear', 'pmh_h_bp', 'pmh_l_bp', 'pmh_heart', 'pmh_col', 'pmh_arryth', 'pmh_perneur', 'pmh_spine', 'pmh_asthma', 'pmh_pneumo', 'pmh_apnea', 'pmh_allerg', 'pmh_kidney', 'pmh_arthrit', 'pmh_broken', 'pmh_transfus', 'pmh_anemia', 'pmh_leuk', 'pmh_hepat', 'pmh_pancrea', 'pmh_heatst', 'pmh_fm', 'pmh_mcs', 'pmh_lupus', 'pmh_dep', 'pmh_schizo', 'pmh_hives', 'pmh_cancski', 'pmh_cancoth', 'pmh_chf', 'pmh_stroke', 'pmh_alz', 'pmh_cog', 'pmh_tbi', 'pmh_men', 'pmh_hun', 'pmh_par', 'pmh_clot', 'pmh_seize', 'pmh_mig', 'pmh_ms', 'pmh_lung', 'pmh_bronch', 'pmh_asbest', 'pmh_sinusit', 'pmh_prostate', 'pmh_hearloss', 'pmh_kidstone', 'pmh_back', 'pmh_hiv', 'pmh_sickle', 'pmh_bleed', 'pmh_nutr', 'pmh_ulcer', 'pmh_gall', 'pmh_ibs', 'pmh_diabet', 'pmh_cfs', 'pmh_lyme', 'pmh_thyroid', 'pmh_ptsd', 'pmh_panic', 'pmh_bip', 'pmh_alc', 'pmh_sub', 'pmh_add', 'pmh_dys', 'pmh_psoria', 'pmh_melan', 'pmh_tmj', 'pmh_mono', 'pmh_other', 'pmh_other_spec', 'ros_birth', 'ros_birthdefect', 'pmh_surg1', 'pmh_surg2', 'pmh_surg3', 'pmh_surg4', 'pmh_surg5', 'pmh_hosp1', 'pmh_hosp2', 'pmh_hosp3', 'pmh_hosp4', 'pmh_hosp5', 'fam_mom', 'fam_momage', 'fam_momcaus', 'fam_mommed', 'fam_dad', 'fam_dadage', 'fam_dadcaus', 'fam_dadmed', 'fam_sib_bro', 'fam_bronum', 'fam_bromed', 'fam_broage', 'fam_brocaus', 'fam_sib_sis', 'fam_sisnum', 'fam_sismed', 'fam_sisage', 'fam_siscaus', 'fam_child', 'fam_son', 'fam_daught', 'fam_childmed', 'fam_childage', 'fam_childcaus', 'allergy', 'all_name1', 'all_reac1', 'all_name2', 'all_reac2', 'all_name3', 'all_reac3', 'medication', 'med_name1', 'med_dose1', 'med_name2', 'med_dose2', 'med_name3', 'med_dose3', 'med_name4', 'med_dose4', 'med_name5', 'med_dose5', 'med_depend', 'sf36_01', 'sf36_02a', 'sf36_02b', 'sf36_02c', 'sf36_02d', 'sf36_02e', 'sf36_02f', 'sf36_02g', 'sf36_02h', 'sf36_02i', 'sf36_02j', 'sf36_03a', 'sf36_03b', 'sf36_03c', 'sf36_03d', 'sf36_04a', 'sf36_04b', 'sf36_04c', 'sf36_05', 'sf36_06', 'sf36_07', 'sf36_08a', 'sf36_08b', 'sf36_08c', 'sf36_08d', 'sf36_08e', 'sf36_08f', 'sf36_08g', 'sf36_08h', 'sf36_08i', 'sf36_09', 'sf36_10a', 'sf36_10b', 'sf36_10c', 'sf36_10d', 'sf36_11a', 'sf36_11b', 'sf36_11c', 'phq_03a', 'phq_03b', 'phq_03c', 'phq_03d', 'phq_04', 'phq_05a', 'phq_14', 'pcptsd_01', 'pcptsd_02', 'pcptsd_03', 'pcptsd_04', 'phq_02a', 'phq_02b', 'phq_02c', 'phq_02d', 'phq_02e', 'phq_02f', 'phq_02g', 'phq_02h', 'pcl_01', 'pcl_02', 'pcl_03', 'pcl_04', 'pcl_05', 'pcl_06', 'pcl_07', 'pcl_08', 'pcl_09', 'pcl_10', 'pcl_11', 'pcl_12', 'pcl_13', 'pcl_14', 'pcl_15', 'pcl_16', 'pcl_17', 'ibs_01', 'ibs_02', 'ibs_03', 'ibs_04', 'ibs_05', 'ibs_06', 'ibs_07', 'ibs_08', 'ibs_09', 'ibs_10', 'fibro_shldr_l', 'fibro_shldr_r', 'fibro_arm_ul', 'fibro_arm_ur', 'fibro_arm_ll', 'fibro_arm_lr', 'fibro_hip_l', 'fibro_hip_r', 'fibro_leg_ul', 'fibro_leg_ur', 'fibro_leg_ll', 'fibro_leg_lr', 'fibro_jaw_l', 'fibro_jaw_r', 'fibro_chest', 'fibro_abdom', 'fibro_back_u', 'fibro_back_l', 'fibro_neck', 'fibro_length', 'vapain_01', 'vapain_02', 'vapain_03', 'vapain_04', 'cfs_fatig_f', 'cfs_rest_f', 'cfs_memor_f', 'cfs_conce_f', 'cfs_muscl_f', 'cfs_joint_f', 'cfs_throat_f', 'cfs_gland_f', 'cfs_heada_f', 'cfs_diarr_f', 'cfs_fever_f', 'cfs_chill_f', 'cfs_sleep_f', 'cfs_nause_f', 'cfs_gi_f', 'cfs_ur_f', 'cfs_lung_f', 'cfs_light_f', 'cfs_depre_f', 'cfs_fatig_i', 'cfs_rest_i', 'cfs_memor_i', 'cfs_conce_i', 'cfs_muscl_i', 'cfs_joint_i', 'cfs_throat_i', 'cfs_gland_i', 'cfs_heada_i', 'cfs_diarr_i', 'cfs_fever_i', 'cfs_chill_i', 'cfs_sleep_i', 'cfs_nause_i', 'cfs_gi_i', 'cfs_ur_i', 'cfs_lung_i', 'cfs_light_i', 'cfs_depre_i', 'cfs_fatig', 'cfs_rest', 'cfs_memor', 'cfs_conce', 'cfs_muscl', 'cfs_joint', 'cfs_throat', 'cfs_gland', 'cfs_heada', 'cfs_diarr', 'cfs_fever', 'cfs_chill', 'cfs_sleep', 'cfs_nause', 'cfs_gi', 'cfs_ur', 'cfs_lung', 'cfs_light', 'cfs_depre', 'cfs_fat_6mo', 'migraines', 'msq_01', 'msq_02', 'msq_03', 'msq_04', 'msq_05', 'msq_06', 'msq_07', 'msq_08', 'msq_09', 'msq_10', 'msq_11', 'msq_12', 'msq_13', 'msq_14', 'psqi_01', 'psqi_02', 'psqi_03', 'psqi_04', 'psqi_05a', 'psqi_05b', 'psqi_05c', 'psqi_05d', 'psqi_05e', 'psqi_05f', 'psqi_05g', 'psqi_05h', 'psqi_05i', 'psqi_05j', 'psqi_05j_spec', 'psqi_06', 'psqi_07', 'psqi_08', 'psqi_09', 'psqi_10', 'psqi_10a', 'psqi_10b', 'psqi_10c', 'psqi_10d', 'psqi_10e', 'psqi_10e_spec', 'expo_herb', 'expo_herb_f', 'expo_herb_i', 'expo_herb_c', 'expo_bite', 'expo_bite_f', 'expo_bite_i', 'expo_bite_c', 'expo_anim', 'expo_anim_f', 'expo_anim_i', 'expo_anim_c', 'expo_anth', 'expo_anth_f', 'expo_anth_i', 'expo_anth_c', 'expo_asbe', 'expo_asbe_f', 'expo_asbe_i', 'expo_asbe_c', 'expo_biow', 'expo_biow_f', 'expo_biow_i', 'expo_biow_c', 'expo_mopp', 'expo_mopp_f', 'expo_mopp_i', 'expo_mopp_c', 'expo_napp', 'expo_napp_f', 'expo_napp_i', 'expo_napp_c', 'expo_wche', 'expo_wche_f', 'expo_wche_i', 'expo_wche_c', 'expo_chem', 'expo_chem_f', 'expo_chem_i', 'expo_chem_c', 'expo_chlo', 'expo_chlo_f', 'expo_chlo_i', 'expo_chlo_c', 'expo_npw', 'expo_npw_f', 'expo_npw_i', 'expo_npw_c', 'expo_wash', 'expo_wash_f', 'expo_wash_i', 'expo_wash_c', 'expo_vibr', 'expo_vibr_f', 'expo_vibr_i', 'expo_vibr_c', 'expo_fogo', 'expo_fogo_f', 'expo_fogo_i', 'expo_fogo_c', 'expo_bloo', 'expo_bloo_f', 'expo_bloo_i', 'expo_bloo_c', 'expo_poll', 'expo_poll_f', 'expo_poll_i', 'expo_poll_c', 'expo_infe', 'expo_infe_f', 'expo_infe_i', 'expo_infe_c', 'expo_inse', 'expo_inse_f', 'expo_inse_i', 'expo_inse_c', 'expo_pest', 'expo_pest_f', 'expo_pest_i', 'expo_pest_c', 'expo_radi', 'expo_radi_f', 'expo_radi_i', 'expo_radi_c', 'expo_lase', 'expo_lase_f', 'expo_lase_i', 'expo_lase_c', 'expo_nois', 'expo_nois_f', 'expo_nois_i', 'expo_nois_c', 'expo_pain', 'expo_pain_f', 'expo_pain_i', 'expo_pain_c', 'expo_petr', 'expo_petr_f', 'expo_petr_i', 'expo_petr_c', 'expo_wexh', 'expo_wexh_f', 'expo_wexh_i', 'expo_wexh_c', 'expo_prop', 'expo_prop_f', 'expo_prop_i', 'expo_prop_c', 'expo_rada', 'expo_rada_f', 'expo_rada_i', 'expo_rada_c', 'expo_sand', 'expo_sand_f', 'expo_sand_i', 'expo_sand_c', 'expo_burn', 'expo_burn_f', 'expo_burn_i', 'expo_burn_c', 'expo_oilf', 'expo_oilf_f', 'expo_oilf_i', 'expo_oilf_c', 'expo_heat', 'expo_heat_f', 'expo_heat_i', 'expo_heat_c', 'expo_vacc', 'expo_vacc_f', 'expo_vacc_i', 'expo_vacc_c', 'expo_du', 'expo_du_f', 'expo_du_i', 'expo_du_c', 'expo_meta', 'expo_meta_f', 'expo_meta_i', 'expo_meta_c']\n"
     ]
    }
   ],
   "source": [
    "# Check the extracted columns\n",
    "print(me_columns)"
   ]
  },
  {
   "cell_type": "code",
   "execution_count": 13,
   "id": "d4677840",
   "metadata": {},
   "outputs": [],
   "source": [
    "# Check the extracted columns\n",
    "df_me = df_intake[me_columns]\n",
    "me_columns = [col for col in df_me.columns if \n",
    "              col.startswith('expo_') or \n",
    "              col == 'WCA' or \n",
    "              col == 'dem_datecom']\n",
    "df_me = df_intake[me_columns]\n",
    "\n",
    "# Sort df_me by 'WCA' column\n",
    "df_me = df_me.sort_values(by='WCA')\n",
    "\n",
    "# Change 'WCA' column to 'SubjectID'\n",
    "df_me.rename(columns={'WCA': 'SubjectID'}, inplace=True)"
   ]
  },
  {
   "cell_type": "code",
   "execution_count": 14,
   "id": "d2e9c048",
   "metadata": {},
   "outputs": [],
   "source": [
    "# Drop all columns ending with '_f', '_i' and '_c'\n",
    "cols_to_drop = [col for col in df_me.columns if col.endswith(('_f', '_i', '_c'))]\n",
    "df_me.drop(columns=cols_to_drop, inplace=True)"
   ]
  },
  {
   "cell_type": "markdown",
   "id": "98d03850",
   "metadata": {},
   "source": [
    "#### Extract covariates"
   ]
  },
  {
   "cell_type": "code",
   "execution_count": 15,
   "id": "1d25c8fa",
   "metadata": {},
   "outputs": [
    {
     "name": "stdout",
     "output_type": "stream",
     "text": [
      "Index(['ID', 'WCA', 'dem_dob', 'dem_sex', 'dem_datecom', 'dem_race01',\n",
      "       'dem_race02', 'dem_race03', 'dem_race04', 'dem_race05',\n",
      "       ...\n",
      "       'cds_24', 'cds_26', 'cds_28', 'cds_29', 'cds_30', 'cds_33', 'cds_35',\n",
      "       'cds_36', 'cds_37', 'Site'],\n",
      "      dtype='object', length=871)\n",
      "Index(['tbi_01a', 'tbi_01b', 'tbi_01c', 'tbi_01d', 'tbi_01e', 'tbi_01f',\n",
      "       'tbi_02a', 'tbi_02b', 'tbi_02c', 'tbi_02d', 'tbi_02e', 'tbi_03a',\n",
      "       'tbi_03b', 'tbi_03c', 'tbi_03d', 'tbi_03e', 'tbi_03f', 'tbi_04a',\n",
      "       'tbi_04b', 'tbi_04c', 'tbi_04d', 'tbi_04e', 'tbi_04f', 'tbi_05',\n",
      "       'tbi_05_spec'],\n",
      "      dtype='object')\n"
     ]
    }
   ],
   "source": [
    "# Extract age, gender and tbi\n",
    "\n",
    "# Check the columns\n",
    "print(df_intake.columns)\n",
    "print(df_intake.columns[df_intake.columns.str.contains('tbi_')])  \n",
    "\n",
    "# Extract covariates\n",
    "covariates = [col for col in df_intake.columns \n",
    "              if col == 'dem_dob' or\n",
    "              col == 'dem_sex' or\n",
    "              col.startswith('tbi_') or\n",
    "              col == 'WCA' or\n",
    "              col == 'dem_datecom']\n",
    "\n",
    "# Extract covariates from df\n",
    "df_covariates = df_intake[covariates]\n",
    "\n",
    "# Sort df_me by 'WCA' column\n",
    "df_covariates = df_covariates.sort_values(by='WCA')\n",
    "\n",
    "# Change 'WCA' column to 'SubjectID' and 'dem_sex' to 'Sex'\n",
    "df_covariates.rename(columns={'WCA': 'SubjectID'}, inplace=True)\n",
    "df_covariates.rename(columns={'dem_sex' : 'Sex'}, inplace=True)"
   ]
  },
  {
   "cell_type": "markdown",
   "id": "1ce65fcc",
   "metadata": {},
   "source": [
    "Drop columns with text, labeled  as 999. "
   ]
  },
  {
   "cell_type": "code",
   "execution_count": 16,
   "id": "52a3daa8",
   "metadata": {},
   "outputs": [
    {
     "data": {
      "text/plain": [
       "(420, 29)"
      ]
     },
     "execution_count": 16,
     "metadata": {},
     "output_type": "execute_result"
    }
   ],
   "source": [
    "df_covariates.shape"
   ]
  },
  {
   "cell_type": "code",
   "execution_count": 17,
   "id": "b9d8d10a",
   "metadata": {},
   "outputs": [
    {
     "data": {
      "text/plain": [
       "Index(['SubjectID', 'dem_dob', 'Sex', 'dem_datecom', 'tbi_01a', 'tbi_01b',\n",
       "       'tbi_01c', 'tbi_01d', 'tbi_01e', 'tbi_01f', 'tbi_02a', 'tbi_02b',\n",
       "       'tbi_02c', 'tbi_02d', 'tbi_02e', 'tbi_03a', 'tbi_03b', 'tbi_03c',\n",
       "       'tbi_03d', 'tbi_03e', 'tbi_03f', 'tbi_04a', 'tbi_04b', 'tbi_04c',\n",
       "       'tbi_04d', 'tbi_04e', 'tbi_04f', 'tbi_05', 'tbi_05_spec'],\n",
       "      dtype='object')"
      ]
     },
     "execution_count": 17,
     "metadata": {},
     "output_type": "execute_result"
    }
   ],
   "source": [
    "df_covariates.columns\n"
   ]
  },
  {
   "cell_type": "code",
   "execution_count": 18,
   "id": "810bfada",
   "metadata": {},
   "outputs": [],
   "source": [
    "# Drop columns\n",
    "cols_to_drop = [col for col in df_covariates.columns if col == 'tbi_01f' or col == 'tbi_05_spec']\n",
    "df_covariates.drop(columns=cols_to_drop, inplace=True)"
   ]
  },
  {
   "cell_type": "markdown",
   "id": "821cf438",
   "metadata": {},
   "source": [
    "#### Extract MRI"
   ]
  },
  {
   "cell_type": "code",
   "execution_count": 19,
   "id": "2da35578",
   "metadata": {},
   "outputs": [
    {
     "data": {
      "text/plain": [
       "(426, 203)"
      ]
     },
     "execution_count": 19,
     "metadata": {},
     "output_type": "execute_result"
    }
   ],
   "source": [
    "# Create copy of original data and preview the first few rows of the MRI data\n",
    "df_mri = create_copy(r'WRIISC_data\\mri_data.csv')\n",
    "df_mri.shape"
   ]
  },
  {
   "cell_type": "code",
   "execution_count": 20,
   "id": "019d7389",
   "metadata": {},
   "outputs": [
    {
     "name": "stdout",
     "output_type": "stream",
     "text": [
      "Columns with majority 0:\n",
      "['5th-Ventricle', 'Left-WM-hypointensities', 'Right-WM-hypointensities', 'non-WM-hypointensities', 'Left-non-WM-hypointensities', 'Right-non-WM-hypointensities']\n"
     ]
    }
   ],
   "source": [
    "# Print the columns that have majority 0\n",
    "cols_with_majority_0 = [col for col in df_mri.columns if (df_mri[col] == 0).mean() > 0.5]\n",
    "print(\"Columns with majority 0:\")\n",
    "print(cols_with_majority_0) "
   ]
  },
  {
   "cell_type": "code",
   "execution_count": 21,
   "id": "b69dc1eb",
   "metadata": {},
   "outputs": [],
   "source": [
    "# Drop columns with majority 0\n",
    "df_mri.drop(columns=cols_with_majority_0, inplace=True)"
   ]
  },
  {
   "cell_type": "markdown",
   "id": "a9a2553b",
   "metadata": {},
   "source": [
    "#### Extract sub-exposure (binary) columns"
   ]
  },
  {
   "cell_type": "code",
   "execution_count": 22,
   "id": "6c2e1ac3",
   "metadata": {},
   "outputs": [
    {
     "name": "stdout",
     "output_type": "stream",
     "text": [
      "['WCA', 'expo_herb', 'expo_herb_f', 'expo_herb_i', 'expo_herb_c', 'expo_bite', 'expo_bite_f', 'expo_bite_i', 'expo_bite_c', 'expo_anim', 'expo_anim_f', 'expo_anim_i', 'expo_anim_c', 'expo_anth', 'expo_anth_f', 'expo_anth_i', 'expo_anth_c', 'expo_asbe', 'expo_asbe_f', 'expo_asbe_i', 'expo_asbe_c', 'expo_biow', 'expo_biow_f', 'expo_biow_i', 'expo_biow_c', 'expo_mopp', 'expo_mopp_f', 'expo_mopp_i', 'expo_mopp_c', 'expo_napp', 'expo_napp_f', 'expo_napp_i', 'expo_napp_c', 'expo_wche', 'expo_wche_f', 'expo_wche_i', 'expo_wche_c', 'expo_chem', 'expo_chem_f', 'expo_chem_i', 'expo_chem_c', 'expo_chlo', 'expo_chlo_f', 'expo_chlo_i', 'expo_chlo_c', 'expo_npw', 'expo_npw_f', 'expo_npw_i', 'expo_npw_c', 'expo_wash', 'expo_wash_f', 'expo_wash_i', 'expo_wash_c', 'expo_vibr', 'expo_vibr_f', 'expo_vibr_i', 'expo_vibr_c', 'expo_fogo', 'expo_fogo_f', 'expo_fogo_i', 'expo_fogo_c', 'expo_bloo', 'expo_bloo_f', 'expo_bloo_i', 'expo_bloo_c', 'expo_poll', 'expo_poll_f', 'expo_poll_i', 'expo_poll_c', 'expo_infe', 'expo_infe_f', 'expo_infe_i', 'expo_infe_c', 'expo_inse', 'expo_inse_f', 'expo_inse_i', 'expo_inse_c', 'expo_pest', 'expo_pest_f', 'expo_pest_i', 'expo_pest_c', 'expo_radi', 'expo_radi_f', 'expo_radi_i', 'expo_radi_c', 'expo_lase', 'expo_lase_f', 'expo_lase_i', 'expo_lase_c', 'expo_nois', 'expo_nois_f', 'expo_nois_i', 'expo_nois_c', 'expo_pain', 'expo_pain_f', 'expo_pain_i', 'expo_pain_c', 'expo_petr', 'expo_petr_f', 'expo_petr_i', 'expo_petr_c', 'expo_wexh', 'expo_wexh_f', 'expo_wexh_i', 'expo_wexh_c', 'expo_prop', 'expo_prop_f', 'expo_prop_i', 'expo_prop_c', 'expo_rada', 'expo_rada_f', 'expo_rada_i', 'expo_rada_c', 'expo_sand', 'expo_sand_f', 'expo_sand_i', 'expo_sand_c', 'expo_burn', 'expo_burn_f', 'expo_burn_i', 'expo_burn_c', 'expo_oilf', 'expo_oilf_f', 'expo_oilf_i', 'expo_oilf_c', 'expo_heat', 'expo_heat_f', 'expo_heat_i', 'expo_heat_c', 'expo_vacc', 'expo_vacc_f', 'expo_vacc_i', 'expo_vacc_c', 'expo_du', 'expo_du_f', 'expo_du_i', 'expo_du_c', 'expo_meta', 'expo_meta_f', 'expo_meta_i', 'expo_meta_c', 'expo_othm', 'expo_occh', 'expo_occh_1', 'expo_occh_2', 'expo_occh_3', 'expo_occh_oth', 'expo_mask', 'expo_mask_desc', 'expo_crav', 'expo_visi', 'expo_hosp_desc', 'expo_hosp_date', 'expo_evac_desc', 'expo_evac_date', 'expo_temp_desc', 'expo_temp_date', 'expo_limi_desc', 'expo_limi_date', 'expo_mos_desc', 'expo_mos_date', 'expo_moos_desc', 'expo_moos_date', 'expo_duso', 'expo_duso_f', 'expo_duso_i', 'expo_duso_c', 'expo_duss', 'expo_duss_f', 'expo_duss_i', 'expo_duss_c', 'expo_cgas', 'expo_cgas_f', 'expo_cgas_i', 'expo_cgas_c', 'expo_metf', 'expo_metf_f', 'expo_metf_i', 'expo_metf_c', 'expo_exhf', 'expo_exhf_f', 'expo_exhf_i', 'expo_exhf_c', 'expo_othc', 'expo_othc_f', 'expo_othc_i', 'expo_othc_c', 'expo_othc_spec', 'expo_resp', 'expo_resp_spec', 'expo_medi', 'expo_medi_spec', 'expo_work', 'expo_work_spec']\n"
     ]
    }
   ],
   "source": [
    "# Extract military exposure ('expo_') columns AND 'WCA' column\n",
    "\n",
    "# First check the columns\n",
    "sub_me_columns = [col for col in df_intake.columns if col.startswith('expo_') or col == 'WCA']\n",
    "print(sub_me_columns)"
   ]
  },
  {
   "cell_type": "code",
   "execution_count": 23,
   "id": "4ba0b067",
   "metadata": {},
   "outputs": [],
   "source": [
    "# Extract columns only before 'expo_meta_c'\n",
    "if 'expo_meta_c' in df_intake.columns:\n",
    "    idx = df_intake.columns.get_loc('expo_meta_c')\n",
    "    sub_me_columns = df_intake.columns[:idx + 1].tolist()  \n",
    "else:\n",
    "    print(\"'expo_meta_c' not found in DataFrame columns.\")\n"
   ]
  },
  {
   "cell_type": "code",
   "execution_count": 24,
   "id": "15aa9282",
   "metadata": {},
   "outputs": [],
   "source": [
    "# Check the extracted columns\n",
    "df_sub_me = df_intake[sub_me_columns]\n",
    "sub_me_columns = [col for col in df_sub_me.columns if \n",
    "              col.startswith('expo_') or \n",
    "              col == 'WCA' or \n",
    "              col == 'dem_datecom']\n",
    "df_sub_me = df_intake[sub_me_columns]\n",
    "\n",
    "# Sort df_me by 'WCA' column\n",
    "df_sub_me = df_sub_me.sort_values(by='WCA')\n",
    "\n",
    "# Change 'WCA' column to 'SubjectID'\n",
    "df_sub_me.rename(columns={'WCA': 'SubjectID'}, inplace=True)"
   ]
  },
  {
   "cell_type": "markdown",
   "id": "78904dfa",
   "metadata": {},
   "source": [
    "### 1b. Remove Duplicates"
   ]
  },
  {
   "cell_type": "markdown",
   "id": "48d33d5a",
   "metadata": {},
   "source": [
    "Note: Some patients have multiple WCA subject Ids indicating different times at which intake packet was completed. Choose most recent timestamp."
   ]
  },
  {
   "cell_type": "code",
   "execution_count": 25,
   "id": "e977e494",
   "metadata": {},
   "outputs": [],
   "source": [
    "# Create function to remove duplicates    \n",
    "def remove_duplicates(df):\n",
    "    # Standardize SubjectID\n",
    "    df['SubjectID'] = (\n",
    "        df['SubjectID']\n",
    "        .astype(str)\n",
    "        .str.upper()\n",
    "        .replace(r'(_T1|_T2|_T3)$', '', regex=True)\n",
    "        .str.strip()\n",
    "    )\n",
    "\n",
    "    # If more than one SubjectID, keep the most recent dem_datecom\n",
    "    if 'dem_datecom' in df.columns:\n",
    "        df['dem_datecom'] = pd.to_datetime(df['dem_datecom'], errors='coerce')\n",
    "        df = df.sort_values(['SubjectID', 'dem_datecom'], ascending=[True, False])\n",
    "        df_2 = df.drop_duplicates(subset='SubjectID', keep='first')\n",
    "    else:\n",
    "        df_2 = df.drop_duplicates(subset='SubjectID', keep='first')\n",
    "\n",
    "    # Print shape before/after\n",
    "    print(f\"DataFrame shape before removing duplicates: {df.shape}\")\n",
    "    print(f\"DataFrame shape after removing duplicates: {df_2.shape}\")\n",
    "\n",
    "    return df_2  # return the de-duplicated DataFrame\n"
   ]
  },
  {
   "cell_type": "code",
   "execution_count": 26,
   "id": "8ed925aa",
   "metadata": {},
   "outputs": [
    {
     "name": "stdout",
     "output_type": "stream",
     "text": [
      "DataFrame shape before removing duplicates: (420, 37)\n",
      "DataFrame shape after removing duplicates: (407, 37)\n"
     ]
    }
   ],
   "source": [
    "# Remove duplicates from the military exposure data\n",
    "# Note: This will keep the most recent 'dem_datecom' for each 'SubjectID\n",
    "df_me = remove_duplicates(df_me)\n",
    "\n",
    "# Remove dem_datecom column\n",
    "df_me = df_me.drop(columns=['dem_datecom'], errors='ignore')\n"
   ]
  },
  {
   "cell_type": "code",
   "execution_count": 27,
   "id": "cd82e7a7",
   "metadata": {},
   "outputs": [
    {
     "name": "stdout",
     "output_type": "stream",
     "text": [
      "DataFrame shape before removing duplicates: (420, 27)\n",
      "DataFrame shape after removing duplicates: (407, 27)\n"
     ]
    }
   ],
   "source": [
    "# Remove duplicates from the covariates data\n",
    "df_covariates = remove_duplicates(df_covariates)\n",
    "\n",
    "# Remove dem_datecom column\n",
    "df_covariates = df_covariates.drop(columns=['dem_datecom'], errors='ignore')\n"
   ]
  },
  {
   "cell_type": "code",
   "execution_count": 28,
   "id": "234dda79",
   "metadata": {},
   "outputs": [
    {
     "name": "stdout",
     "output_type": "stream",
     "text": [
      "DataFrame shape before removing duplicates: (426, 197)\n",
      "DataFrame shape after removing duplicates: (426, 197)\n"
     ]
    }
   ],
   "source": [
    "# Remove duplicates from MRI data\n",
    "df_mri = remove_duplicates(df_mri)\n",
    "\n"
   ]
  },
  {
   "cell_type": "code",
   "execution_count": 29,
   "id": "d1ad2aa3",
   "metadata": {},
   "outputs": [
    {
     "name": "stdout",
     "output_type": "stream",
     "text": [
      "DataFrame shape before removing duplicates: (420, 142)\n",
      "DataFrame shape after removing duplicates: (407, 142)\n"
     ]
    }
   ],
   "source": [
    "# Remove duplicates from the sub-military exposure data\n",
    "# Note: This will keep the most recent 'dem_datecom' for each 'SubjectID\n",
    "df_sub_me = remove_duplicates(df_sub_me)\n",
    "\n",
    "# Remove dem_datecom column\n",
    "df_sub_me = df_sub_me.drop(columns=['dem_datecom'], errors='ignore')\n"
   ]
  },
  {
   "cell_type": "markdown",
   "id": "04a40eae",
   "metadata": {},
   "source": [
    "### 1c. Convert missing values to NaN."
   ]
  },
  {
   "cell_type": "markdown",
   "id": "bd7cf46e",
   "metadata": {},
   "source": [
    "#### Calculate number of missing values."
   ]
  },
  {
   "cell_type": "markdown",
   "id": "b376de82",
   "metadata": {},
   "source": [
    "Covert exposure to binary. "
   ]
  },
  {
   "cell_type": "code",
   "execution_count": 30,
   "id": "ffbf0230",
   "metadata": {},
   "outputs": [],
   "source": [
    "# Convert exposure columns to binary in ME dataset\n",
    "target_cols = [col for col in df_me.columns if col.startswith('expo_')]\n",
    "df_me[target_cols] = df_me[target_cols].replace({0: 0, 1: 1, 2: 1})\n"
   ]
  },
  {
   "cell_type": "code",
   "execution_count": 31,
   "id": "5b232609",
   "metadata": {},
   "outputs": [],
   "source": [
    "# Calculate number of missing values in data sets.\n",
    "def calculate_missing_values(df):\n",
    "    missing_values = df.isnull().sum()\n",
    "    total_cells = np.prod(df.shape)\n",
    "    total_missing = missing_values.sum()\n",
    "    percent_missing = (total_missing / total_cells) * 100\n",
    "    print(f\"Total missing values: {total_missing}\")\n",
    "    print(f\"Percentage of missing values: {percent_missing:.2f}%\")\n",
    "    return missing_values"
   ]
  },
  {
   "cell_type": "code",
   "execution_count": 32,
   "id": "3595f201",
   "metadata": {},
   "outputs": [],
   "source": [
    "# Convert missing values and 999.0 to NaN \n",
    "def convert_missing_values(df):\n",
    "    df = df.replace([\"\", \" \", 999.0], np.nan)\n",
    "    return df"
   ]
  },
  {
   "cell_type": "markdown",
   "id": "4ed9a5b8",
   "metadata": {},
   "source": [
    "##### For df_me."
   ]
  },
  {
   "cell_type": "code",
   "execution_count": 33,
   "id": "bdb1fe09",
   "metadata": {},
   "outputs": [
    {
     "name": "stdout",
     "output_type": "stream",
     "text": [
      "Total missing values: 53\n",
      "Percentage of missing values: 0.36%\n"
     ]
    },
    {
     "data": {
      "text/plain": [
       "SubjectID    0\n",
       "expo_herb    1\n",
       "expo_bite    1\n",
       "expo_anim    2\n",
       "expo_anth    1\n",
       "expo_asbe    5\n",
       "expo_biow    3\n",
       "expo_mopp    3\n",
       "expo_napp    1\n",
       "expo_wche    1\n",
       "expo_chem    1\n",
       "expo_chlo    3\n",
       "expo_npw     2\n",
       "expo_wash    2\n",
       "expo_vibr    1\n",
       "expo_fogo    1\n",
       "expo_bloo    2\n",
       "expo_poll    2\n",
       "expo_infe    1\n",
       "expo_inse    1\n",
       "expo_pest    1\n",
       "expo_radi    1\n",
       "expo_lase    1\n",
       "expo_nois    2\n",
       "expo_pain    1\n",
       "expo_petr    1\n",
       "expo_wexh    1\n",
       "expo_prop    2\n",
       "expo_rada    1\n",
       "expo_sand    2\n",
       "expo_burn    1\n",
       "expo_oilf    1\n",
       "expo_heat    1\n",
       "expo_vacc    1\n",
       "expo_du      1\n",
       "expo_meta    1\n",
       "dtype: int64"
      ]
     },
     "execution_count": 33,
     "metadata": {},
     "output_type": "execute_result"
    }
   ],
   "source": [
    "calculate_missing_values(df_me)"
   ]
  },
  {
   "cell_type": "code",
   "execution_count": 34,
   "id": "11547743",
   "metadata": {},
   "outputs": [],
   "source": [
    "# Convert missing values and 999.0 to NaN in exposure data set\n",
    "df_me = convert_missing_values(df_me)"
   ]
  },
  {
   "cell_type": "code",
   "execution_count": 35,
   "id": "4b183ef0",
   "metadata": {},
   "outputs": [
    {
     "name": "stdout",
     "output_type": "stream",
     "text": [
      "Total missing values: 2887\n",
      "Percentage of missing values: 19.70%\n"
     ]
    },
    {
     "data": {
      "text/plain": [
       "SubjectID      0\n",
       "expo_herb     26\n",
       "expo_bite    101\n",
       "expo_anim    140\n",
       "expo_anth     74\n",
       "expo_asbe     75\n",
       "expo_biow     72\n",
       "expo_mopp    136\n",
       "expo_napp    110\n",
       "expo_wche     31\n",
       "expo_chem     40\n",
       "expo_chlo    132\n",
       "expo_npw      61\n",
       "expo_wash     66\n",
       "expo_vibr    146\n",
       "expo_fogo    149\n",
       "expo_bloo    142\n",
       "expo_poll    146\n",
       "expo_infe     68\n",
       "expo_inse     30\n",
       "expo_pest     42\n",
       "expo_radi     61\n",
       "expo_lase     61\n",
       "expo_nois     73\n",
       "expo_pain     73\n",
       "expo_petr     68\n",
       "expo_wexh     74\n",
       "expo_prop     32\n",
       "expo_rada     70\n",
       "expo_sand     83\n",
       "expo_burn     91\n",
       "expo_oilf     66\n",
       "expo_heat    144\n",
       "expo_vacc     34\n",
       "expo_du       37\n",
       "expo_meta    133\n",
       "dtype: int64"
      ]
     },
     "execution_count": 35,
     "metadata": {},
     "output_type": "execute_result"
    }
   ],
   "source": [
    "calculate_missing_values(df_me)"
   ]
  },
  {
   "cell_type": "markdown",
   "id": "59a0d765",
   "metadata": {},
   "source": [
    "##### For df_covariates."
   ]
  },
  {
   "cell_type": "markdown",
   "id": "079a4ae1",
   "metadata": {},
   "source": [
    "Change tbi to binary."
   ]
  },
  {
   "cell_type": "code",
   "execution_count": 36,
   "id": "86f16538",
   "metadata": {},
   "outputs": [],
   "source": [
    "# Convert tbi columns to binary (i.e. False = 0, True = 1)\n",
    "tbi_columns = [col for col in df_covariates.columns if col.startswith('tbi_')]\n",
    "recode_map = {False: 0, True: 1}\n",
    "for col in tbi_columns:\n",
    "    if col in df_covariates.columns:\n",
    "        df_covariates[col] = df_covariates[col].map(recode_map)\n",
    "    # If enire column is NaN, drop the column\n",
    "    if df_covariates[col].isnull().all():\n",
    "        df_covariates = df_covariates.drop(columns=[col], errors='ignore')\n",
    "\n"
   ]
  },
  {
   "cell_type": "markdown",
   "id": "2dfd071d",
   "metadata": {},
   "source": [
    "Convert dem_dob to Age"
   ]
  },
  {
   "cell_type": "code",
   "execution_count": 37,
   "id": "fdae23aa",
   "metadata": {},
   "outputs": [],
   "source": [
    "from datetime import datetime\n",
    "\n",
    "if 'dem_dob' in df_covariates.columns:\n",
    "    # Convert to datetime\n",
    "    df_covariates['dem_dob'] = pd.to_datetime(\n",
    "    df_covariates['dem_dob'].astype(str).str.strip(),\n",
    "    format='%d%b%Y %H:%M:%S',\n",
    "    errors='coerce'\n",
    ")\n",
    "    # Set 1/1/1900 as missing\n",
    "    df_covariates.loc[df_covariates['dem_dob'] == pd.Timestamp('1900-01-01'), 'dem_dob'] = pd.NaT\n",
    "    # Calculate age\n",
    "    current_year = datetime.now().year\n",
    "    df_covariates['Age'] = current_year - df_covariates['dem_dob'].dt.year\n",
    "    # If dem_dob is missing, set Age as missing\n",
    "    df_covariates.loc[df_covariates['dem_dob'].isna(), 'Age'] = np.nan\n",
    "    # Drop dem_dob column\n",
    "    df_covariates= df_covariates.drop(columns=['dem_dob'], errors='ignore')\n",
    "    # Move 'Age' to third column\n",
    "    cols = df_covariates.columns.tolist()\n",
    "    age_col = cols.pop(cols.index('Age'))\n",
    "    cols.insert(2, age_col)\n",
    "    df_covariates = df_covariates[cols]\n"
   ]
  },
  {
   "cell_type": "code",
   "execution_count": 38,
   "id": "48b0fdea",
   "metadata": {},
   "outputs": [
    {
     "name": "stdout",
     "output_type": "stream",
     "text": [
      "Total missing values: 610\n",
      "Percentage of missing values: 5.76%\n"
     ]
    },
    {
     "data": {
      "text/plain": [
       "SubjectID     0\n",
       "Sex           0\n",
       "Age           1\n",
       "tbi_01a       3\n",
       "tbi_01b       2\n",
       "tbi_01c       2\n",
       "tbi_01d       2\n",
       "tbi_01e       2\n",
       "tbi_02a      18\n",
       "tbi_02b      19\n",
       "tbi_02c      18\n",
       "tbi_02d      18\n",
       "tbi_02e      18\n",
       "tbi_03a      35\n",
       "tbi_03b      35\n",
       "tbi_03c      35\n",
       "tbi_03d      35\n",
       "tbi_03e      35\n",
       "tbi_03f      35\n",
       "tbi_04a      49\n",
       "tbi_04b      49\n",
       "tbi_04c      49\n",
       "tbi_04d      49\n",
       "tbi_04e      49\n",
       "tbi_04f      49\n",
       "tbi_05        3\n",
       "dtype: int64"
      ]
     },
     "execution_count": 38,
     "metadata": {},
     "output_type": "execute_result"
    }
   ],
   "source": [
    "calculate_missing_values(df_covariates)"
   ]
  },
  {
   "cell_type": "code",
   "execution_count": 39,
   "id": "ddef439c",
   "metadata": {},
   "outputs": [],
   "source": [
    "df_covariates = convert_missing_values(df_covariates)"
   ]
  },
  {
   "cell_type": "code",
   "execution_count": 40,
   "id": "14987816",
   "metadata": {},
   "outputs": [
    {
     "name": "stdout",
     "output_type": "stream",
     "text": [
      "Total missing values: 610\n",
      "Percentage of missing values: 5.76%\n"
     ]
    },
    {
     "data": {
      "text/plain": [
       "SubjectID     0\n",
       "Sex           0\n",
       "Age           1\n",
       "tbi_01a       3\n",
       "tbi_01b       2\n",
       "tbi_01c       2\n",
       "tbi_01d       2\n",
       "tbi_01e       2\n",
       "tbi_02a      18\n",
       "tbi_02b      19\n",
       "tbi_02c      18\n",
       "tbi_02d      18\n",
       "tbi_02e      18\n",
       "tbi_03a      35\n",
       "tbi_03b      35\n",
       "tbi_03c      35\n",
       "tbi_03d      35\n",
       "tbi_03e      35\n",
       "tbi_03f      35\n",
       "tbi_04a      49\n",
       "tbi_04b      49\n",
       "tbi_04c      49\n",
       "tbi_04d      49\n",
       "tbi_04e      49\n",
       "tbi_04f      49\n",
       "tbi_05        3\n",
       "dtype: int64"
      ]
     },
     "execution_count": 40,
     "metadata": {},
     "output_type": "execute_result"
    }
   ],
   "source": [
    "calculate_missing_values(df_covariates) "
   ]
  },
  {
   "cell_type": "markdown",
   "id": "47a6b3bf",
   "metadata": {},
   "source": [
    "##### Check for df_mri"
   ]
  },
  {
   "cell_type": "code",
   "execution_count": 41,
   "id": "485e15fa",
   "metadata": {},
   "outputs": [
    {
     "name": "stdout",
     "output_type": "stream",
     "text": [
      "Total missing values: 0\n",
      "Percentage of missing values: 0.00%\n"
     ]
    },
    {
     "data": {
      "text/plain": [
       "SubjectID                         0\n",
       "Left-Lateral-Ventricle            0\n",
       "Left-Inf-Lat-Vent                 0\n",
       "Left-Cerebellum-White-Matter      0\n",
       "Left-Cerebellum-Cortex            0\n",
       "                                 ..\n",
       "ThickAvg_rh_supramarginal         0\n",
       "ThickAvg_rh_frontalpole           0\n",
       "ThickAvg_rh_temporalpole          0\n",
       "ThickAvg_rh_transversetemporal    0\n",
       "ThickAvg_rh_insula                0\n",
       "Length: 197, dtype: int64"
      ]
     },
     "execution_count": 41,
     "metadata": {},
     "output_type": "execute_result"
    }
   ],
   "source": [
    "calculate_missing_values(df_mri)"
   ]
  },
  {
   "cell_type": "markdown",
   "id": "4eb485a1",
   "metadata": {},
   "source": [
    "#### For df_sub_me"
   ]
  },
  {
   "cell_type": "code",
   "execution_count": 42,
   "id": "e712ddd9",
   "metadata": {},
   "outputs": [
    {
     "name": "stdout",
     "output_type": "stream",
     "text": [
      "Total missing values: 5619\n",
      "Percentage of missing values: 9.79%\n"
     ]
    },
    {
     "data": {
      "text/plain": [
       "SubjectID       0\n",
       "expo_herb       1\n",
       "expo_herb_f    77\n",
       "expo_herb_i    77\n",
       "expo_herb_c    77\n",
       "               ..\n",
       "expo_du_c      69\n",
       "expo_meta       1\n",
       "expo_meta_f    84\n",
       "expo_meta_i    84\n",
       "expo_meta_c    83\n",
       "Length: 141, dtype: int64"
      ]
     },
     "execution_count": 42,
     "metadata": {},
     "output_type": "execute_result"
    }
   ],
   "source": [
    "calculate_missing_values(df_sub_me)"
   ]
  },
  {
   "cell_type": "code",
   "execution_count": 43,
   "id": "79128614",
   "metadata": {},
   "outputs": [],
   "source": [
    "# Convert missing values and 999.0 to NaN in sub_exposure data set\n",
    "df_sub_me = convert_missing_values(df_sub_me)"
   ]
  },
  {
   "cell_type": "code",
   "execution_count": 44,
   "id": "5359fc55",
   "metadata": {},
   "outputs": [
    {
     "name": "stdout",
     "output_type": "stream",
     "text": [
      "Total missing values: 28971\n",
      "Percentage of missing values: 50.48%\n"
     ]
    },
    {
     "data": {
      "text/plain": [
       "SubjectID        0\n",
       "expo_herb       26\n",
       "expo_herb_f    346\n",
       "expo_herb_i    350\n",
       "expo_herb_c    313\n",
       "              ... \n",
       "expo_du_c      256\n",
       "expo_meta      133\n",
       "expo_meta_f    380\n",
       "expo_meta_i    379\n",
       "expo_meta_c    377\n",
       "Length: 141, dtype: int64"
      ]
     },
     "execution_count": 44,
     "metadata": {},
     "output_type": "execute_result"
    }
   ],
   "source": [
    "calculate_missing_values(df_sub_me)"
   ]
  },
  {
   "cell_type": "markdown",
   "id": "2a9ef0e6",
   "metadata": {},
   "source": [
    "## 2. Data preprocessing"
   ]
  },
  {
   "cell_type": "code",
   "execution_count": 45,
   "id": "7a4573a5",
   "metadata": {},
   "outputs": [],
   "source": [
    "# Merge df_sub_me with df_mri and df_covariates\n",
    "df_final_sub_me = pd.merge(df_sub_me, df_mri, on='SubjectID', how='outer')\n",
    "df_final_sub_me = pd.merge(df_final_sub_me, df_covariates, on='SubjectID', how='outer')   "
   ]
  },
  {
   "cell_type": "markdown",
   "id": "8c12e363",
   "metadata": {},
   "source": [
    "##### Merge Data into final dataset"
   ]
  },
  {
   "cell_type": "code",
   "execution_count": 46,
   "id": "d0d2a894",
   "metadata": {},
   "outputs": [
    {
     "name": "stdout",
     "output_type": "stream",
     "text": [
      "Shape of cleaned ME data: (407, 36)\n",
      "Shape of cleaned Covariates data: (407, 26)\n",
      "Shape of cleaned MRI data: (426, 197)\n"
     ]
    }
   ],
   "source": [
    "# Check shape of each cleaned dataset\n",
    "print(f\"Shape of cleaned ME data: {df_me.shape}\")   \n",
    "print(f\"Shape of cleaned Covariates data: {df_covariates.shape}\")\n",
    "print(f\"Shape of cleaned MRI data: {df_mri.shape}\")"
   ]
  },
  {
   "cell_type": "code",
   "execution_count": 47,
   "id": "3e2467ae",
   "metadata": {},
   "outputs": [],
   "source": [
    "# Save the dataframes to CSV files\n",
    "df_me.to_csv(r'WRIISC_data\\cleaned_me_data.csv', index=False)\n",
    "df_covariates.to_csv(r'WRIISC_data\\cleaned_covariates_data.csv', index=False)\n",
    "df_mri.to_csv(r'WRIISC_data\\cleaned_mri_data.csv', index=False)"
   ]
  },
  {
   "cell_type": "code",
   "execution_count": 48,
   "id": "c3b5a26b",
   "metadata": {},
   "outputs": [],
   "source": [
    "def merge_data(cleaned_me_path, cleaned_mri_path, cleaned_covariates_path): \n",
    "    df_me = pd.read_csv(cleaned_me_path)\n",
    "    df_mri = pd.read_csv(cleaned_mri_path)\n",
    "    df_covariates = pd.read_csv(cleaned_covariates_path)\n",
    "\n",
    "    # Merge ME and MRI first, then merge with covariates\n",
    "    df = pd.merge(df_me, df_mri, on='SubjectID', how='inner')\n",
    "    df = pd.merge(df, df_covariates, on='SubjectID', how='inner')\n",
    "\n",
    "    return df"
   ]
  },
  {
   "cell_type": "code",
   "execution_count": 49,
   "id": "a7b6d742",
   "metadata": {},
   "outputs": [],
   "source": [
    "# Load the data\n",
    "df = merge_data(r'WRIISC_data\\cleaned_me_data.csv', \n",
    "                       r'WRIISC_data\\cleaned_mri_data.csv', \n",
    "                       r'WRIISC_data\\cleaned_covariates_data.csv')\n",
    "\n"
   ]
  },
  {
   "cell_type": "code",
   "execution_count": 50,
   "id": "ad045aa2",
   "metadata": {},
   "outputs": [
    {
     "data": {
      "text/plain": [
       "['SubjectID',\n",
       " 'expo_herb',\n",
       " 'expo_bite',\n",
       " 'expo_anim',\n",
       " 'expo_anth',\n",
       " 'expo_asbe',\n",
       " 'expo_biow',\n",
       " 'expo_mopp',\n",
       " 'expo_napp',\n",
       " 'expo_wche',\n",
       " 'expo_chem',\n",
       " 'expo_chlo',\n",
       " 'expo_npw',\n",
       " 'expo_wash',\n",
       " 'expo_vibr',\n",
       " 'expo_fogo',\n",
       " 'expo_bloo',\n",
       " 'expo_poll',\n",
       " 'expo_infe',\n",
       " 'expo_inse',\n",
       " 'expo_pest',\n",
       " 'expo_radi',\n",
       " 'expo_lase',\n",
       " 'expo_nois',\n",
       " 'expo_pain',\n",
       " 'expo_petr',\n",
       " 'expo_wexh',\n",
       " 'expo_prop',\n",
       " 'expo_rada',\n",
       " 'expo_sand',\n",
       " 'expo_burn',\n",
       " 'expo_oilf',\n",
       " 'expo_heat',\n",
       " 'expo_vacc',\n",
       " 'expo_du',\n",
       " 'expo_meta',\n",
       " 'Left-Lateral-Ventricle',\n",
       " 'Left-Inf-Lat-Vent',\n",
       " 'Left-Cerebellum-White-Matter',\n",
       " 'Left-Cerebellum-Cortex',\n",
       " 'Left-Thalamus-Proper',\n",
       " 'Left-Caudate',\n",
       " 'Left-Putamen',\n",
       " 'Left-Pallidum',\n",
       " '3rd-Ventricle',\n",
       " '4th-Ventricle',\n",
       " 'Brain-Stem',\n",
       " 'Left-Hippocampus',\n",
       " 'Left-Amygdala',\n",
       " 'CSF',\n",
       " 'Left-Accumbens-area',\n",
       " 'Left-VentralDC',\n",
       " 'Left-vessel',\n",
       " 'Left-choroid-plexus',\n",
       " 'Right-Lateral-Ventricle',\n",
       " 'Right-Inf-Lat-Vent',\n",
       " 'Right-Cerebellum-White-Matter',\n",
       " 'Right-Cerebellum-Cortex',\n",
       " 'Right-Thalamus-Proper',\n",
       " 'Right-Caudate',\n",
       " 'Right-Putamen',\n",
       " 'Right-Pallidum',\n",
       " 'Right-Hippocampus',\n",
       " 'Right-Amygdala',\n",
       " 'Right-Accumbens-area',\n",
       " 'Right-VentralDC',\n",
       " 'Right-vessel',\n",
       " 'Right-choroid-plexus',\n",
       " 'WM-hypointensities',\n",
       " 'Optic-Chiasm',\n",
       " 'CC_Posterior',\n",
       " 'CC_Mid_Posterior',\n",
       " 'CC_Central',\n",
       " 'CC_Mid_Anterior',\n",
       " 'CC_Anterior',\n",
       " 'BrainSegVol',\n",
       " 'BrainSegVolNotVent',\n",
       " 'BrainSegVolNotVentSurf',\n",
       " 'lhCortexVol',\n",
       " 'rhCortexVol',\n",
       " 'CortexVol',\n",
       " 'lhCerebralWhiteMatterVol',\n",
       " 'rhCerebralWhiteMatterVol',\n",
       " 'CerebralWhiteMatterVol',\n",
       " 'SubCortGrayVol',\n",
       " 'TotalGrayVol',\n",
       " 'SupraTentorialVol',\n",
       " 'SupraTentorialVolNotVent',\n",
       " 'SupraTentorialVolNotVentVox',\n",
       " 'MaskVol',\n",
       " 'BrainSegVol-to-eTIV',\n",
       " 'MaskVol-to-eTIV',\n",
       " 'lhSurfaceHoles',\n",
       " 'rhSurfaceHoles',\n",
       " 'SurfaceHoles',\n",
       " 'EstimatedTotalIntraCranialVol',\n",
       " 'GrayVol_lh_bankssts',\n",
       " 'GrayVol_lh_caudalanteriorcingulate',\n",
       " 'GrayVol_lh_caudalmiddlefrontal',\n",
       " 'GrayVol_lh_cuneus',\n",
       " 'GrayVol_lh_entorhinal',\n",
       " 'GrayVol_lh_fusiform',\n",
       " 'GrayVol_lh_inferiorparietal',\n",
       " 'GrayVol_lh_inferiortemporal',\n",
       " 'GrayVol_lh_isthmuscingulate',\n",
       " 'GrayVol_lh_lateraloccipital',\n",
       " 'GrayVol_lh_lateralorbitofrontal',\n",
       " 'GrayVol_lh_lingual',\n",
       " 'GrayVol_lh_medialorbitofrontal',\n",
       " 'GrayVol_lh_middletemporal',\n",
       " 'GrayVol_lh_parahippocampal',\n",
       " 'GrayVol_lh_paracentral',\n",
       " 'GrayVol_lh_parsopercularis',\n",
       " 'GrayVol_lh_parsorbitalis',\n",
       " 'GrayVol_lh_parstriangularis',\n",
       " 'GrayVol_lh_pericalcarine',\n",
       " 'GrayVol_lh_postcentral',\n",
       " 'GrayVol_lh_posteriorcingulate',\n",
       " 'GrayVol_lh_precentral',\n",
       " 'GrayVol_lh_precuneus',\n",
       " 'GrayVol_lh_rostralanteriorcingulate',\n",
       " 'GrayVol_lh_rostralmiddlefrontal',\n",
       " 'GrayVol_lh_superiorfrontal',\n",
       " 'GrayVol_lh_superiorparietal',\n",
       " 'GrayVol_lh_superiortemporal',\n",
       " 'GrayVol_lh_supramarginal',\n",
       " 'GrayVol_lh_frontalpole',\n",
       " 'GrayVol_lh_temporalpole',\n",
       " 'GrayVol_lh_transversetemporal',\n",
       " 'GrayVol_lh_insula',\n",
       " 'GrayVol_rh_bankssts',\n",
       " 'GrayVol_rh_caudalanteriorcingulate',\n",
       " 'GrayVol_rh_caudalmiddlefrontal',\n",
       " 'GrayVol_rh_cuneus',\n",
       " 'GrayVol_rh_entorhinal',\n",
       " 'GrayVol_rh_fusiform',\n",
       " 'GrayVol_rh_inferiorparietal',\n",
       " 'GrayVol_rh_inferiortemporal',\n",
       " 'GrayVol_rh_isthmuscingulate',\n",
       " 'GrayVol_rh_lateraloccipital',\n",
       " 'GrayVol_rh_lateralorbitofrontal',\n",
       " 'GrayVol_rh_lingual',\n",
       " 'GrayVol_rh_medialorbitofrontal',\n",
       " 'GrayVol_rh_middletemporal',\n",
       " 'GrayVol_rh_parahippocampal',\n",
       " 'GrayVol_rh_paracentral',\n",
       " 'GrayVol_rh_parsopercularis',\n",
       " 'GrayVol_rh_parsorbitalis',\n",
       " 'GrayVol_rh_parstriangularis',\n",
       " 'GrayVol_rh_pericalcarine',\n",
       " 'GrayVol_rh_postcentral',\n",
       " 'GrayVol_rh_posteriorcingulate',\n",
       " 'GrayVol_rh_precentral',\n",
       " 'GrayVol_rh_precuneus',\n",
       " 'GrayVol_rh_rostralanteriorcingulate',\n",
       " 'GrayVol_rh_rostralmiddlefrontal',\n",
       " 'GrayVol_rh_superiorfrontal',\n",
       " 'GrayVol_rh_superiorparietal',\n",
       " 'GrayVol_rh_superiortemporal',\n",
       " 'GrayVol_rh_supramarginal',\n",
       " 'GrayVol_rh_frontalpole',\n",
       " 'GrayVol_rh_temporalpole',\n",
       " 'GrayVol_rh_transversetemporal',\n",
       " 'GrayVol_rh_insula',\n",
       " 'ThickAvg_lh_bankssts',\n",
       " 'ThickAvg_lh_caudalanteriorcingulate',\n",
       " 'ThickAvg_lh_caudalmiddlefrontal',\n",
       " 'ThickAvg_lh_cuneus',\n",
       " 'ThickAvg_lh_entorhinal',\n",
       " 'ThickAvg_lh_fusiform',\n",
       " 'ThickAvg_lh_inferiorparietal',\n",
       " 'ThickAvg_lh_inferiortemporal',\n",
       " 'ThickAvg_lh_isthmuscingulate',\n",
       " 'ThickAvg_lh_lateraloccipital',\n",
       " 'ThickAvg_lh_lateralorbitofrontal',\n",
       " 'ThickAvg_lh_lingual',\n",
       " 'ThickAvg_lh_medialorbitofrontal',\n",
       " 'ThickAvg_lh_middletemporal',\n",
       " 'ThickAvg_lh_parahippocampal',\n",
       " 'ThickAvg_lh_paracentral',\n",
       " 'ThickAvg_lh_parsopercularis',\n",
       " 'ThickAvg_lh_parsorbitalis',\n",
       " 'ThickAvg_lh_parstriangularis',\n",
       " 'ThickAvg_lh_pericalcarine',\n",
       " 'ThickAvg_lh_postcentral',\n",
       " 'ThickAvg_lh_posteriorcingulate',\n",
       " 'ThickAvg_lh_precentral',\n",
       " 'ThickAvg_lh_precuneus',\n",
       " 'ThickAvg_lh_rostralanteriorcingulate',\n",
       " 'ThickAvg_lh_rostralmiddlefrontal',\n",
       " 'ThickAvg_lh_superiorfrontal',\n",
       " 'ThickAvg_lh_superiorparietal',\n",
       " 'ThickAvg_lh_superiortemporal',\n",
       " 'ThickAvg_lh_supramarginal',\n",
       " 'ThickAvg_lh_frontalpole',\n",
       " 'ThickAvg_lh_temporalpole',\n",
       " 'ThickAvg_lh_transversetemporal',\n",
       " 'ThickAvg_lh_insula',\n",
       " 'ThickAvg_rh_bankssts',\n",
       " 'ThickAvg_rh_caudalanteriorcingulate',\n",
       " 'ThickAvg_rh_caudalmiddlefrontal',\n",
       " 'ThickAvg_rh_cuneus',\n",
       " 'ThickAvg_rh_entorhinal',\n",
       " 'ThickAvg_rh_fusiform',\n",
       " 'ThickAvg_rh_inferiorparietal',\n",
       " 'ThickAvg_rh_inferiortemporal',\n",
       " 'ThickAvg_rh_isthmuscingulate',\n",
       " 'ThickAvg_rh_lateraloccipital',\n",
       " 'ThickAvg_rh_lateralorbitofrontal',\n",
       " 'ThickAvg_rh_lingual',\n",
       " 'ThickAvg_rh_medialorbitofrontal',\n",
       " 'ThickAvg_rh_middletemporal',\n",
       " 'ThickAvg_rh_parahippocampal',\n",
       " 'ThickAvg_rh_paracentral',\n",
       " 'ThickAvg_rh_parsopercularis',\n",
       " 'ThickAvg_rh_parsorbitalis',\n",
       " 'ThickAvg_rh_parstriangularis',\n",
       " 'ThickAvg_rh_pericalcarine',\n",
       " 'ThickAvg_rh_postcentral',\n",
       " 'ThickAvg_rh_posteriorcingulate',\n",
       " 'ThickAvg_rh_precentral',\n",
       " 'ThickAvg_rh_precuneus',\n",
       " 'ThickAvg_rh_rostralanteriorcingulate',\n",
       " 'ThickAvg_rh_rostralmiddlefrontal',\n",
       " 'ThickAvg_rh_superiorfrontal',\n",
       " 'ThickAvg_rh_superiorparietal',\n",
       " 'ThickAvg_rh_superiortemporal',\n",
       " 'ThickAvg_rh_supramarginal',\n",
       " 'ThickAvg_rh_frontalpole',\n",
       " 'ThickAvg_rh_temporalpole',\n",
       " 'ThickAvg_rh_transversetemporal',\n",
       " 'ThickAvg_rh_insula',\n",
       " 'Sex',\n",
       " 'Age',\n",
       " 'tbi_01a',\n",
       " 'tbi_01b',\n",
       " 'tbi_01c',\n",
       " 'tbi_01d',\n",
       " 'tbi_01e',\n",
       " 'tbi_02a',\n",
       " 'tbi_02b',\n",
       " 'tbi_02c',\n",
       " 'tbi_02d',\n",
       " 'tbi_02e',\n",
       " 'tbi_03a',\n",
       " 'tbi_03b',\n",
       " 'tbi_03c',\n",
       " 'tbi_03d',\n",
       " 'tbi_03e',\n",
       " 'tbi_03f',\n",
       " 'tbi_04a',\n",
       " 'tbi_04b',\n",
       " 'tbi_04c',\n",
       " 'tbi_04d',\n",
       " 'tbi_04e',\n",
       " 'tbi_04f',\n",
       " 'tbi_05']"
      ]
     },
     "execution_count": 50,
     "metadata": {},
     "output_type": "execute_result"
    }
   ],
   "source": [
    "df.columns.to_list()"
   ]
  },
  {
   "cell_type": "code",
   "execution_count": 51,
   "id": "4fc84b7d",
   "metadata": {},
   "outputs": [
    {
     "data": {
      "text/plain": [
       "(263, 257)"
      ]
     },
     "execution_count": 51,
     "metadata": {},
     "output_type": "execute_result"
    }
   ],
   "source": [
    "df.shape"
   ]
  },
  {
   "cell_type": "markdown",
   "id": "92d23fda",
   "metadata": {},
   "source": [
    "## 3. Machine Learning"
   ]
  },
  {
   "cell_type": "code",
   "execution_count": 52,
   "id": "17b2a568",
   "metadata": {},
   "outputs": [
    {
     "name": "stdout",
     "output_type": "stream",
     "text": [
      "['SubjectID', 'Left-Lateral-Ventricle', 'Left-Inf-Lat-Vent', 'Left-Cerebellum-White-Matter', 'Left-Cerebellum-Cortex', 'Left-Thalamus-Proper', 'Left-Caudate', 'Left-Putamen', 'Left-Pallidum', '3rd-Ventricle', '4th-Ventricle', 'Brain-Stem', 'Left-Hippocampus', 'Left-Amygdala', 'CSF', 'Left-Accumbens-area', 'Left-VentralDC', 'Left-vessel', 'Left-choroid-plexus', 'Right-Lateral-Ventricle', 'Right-Inf-Lat-Vent', 'Right-Cerebellum-White-Matter', 'Right-Cerebellum-Cortex', 'Right-Thalamus-Proper', 'Right-Caudate', 'Right-Putamen', 'Right-Pallidum', 'Right-Hippocampus', 'Right-Amygdala', 'Right-Accumbens-area', 'Right-VentralDC', 'Right-vessel', 'Right-choroid-plexus', 'WM-hypointensities', 'Optic-Chiasm', 'CC_Posterior', 'CC_Mid_Posterior', 'CC_Central', 'CC_Mid_Anterior', 'CC_Anterior', 'BrainSegVol', 'BrainSegVolNotVent', 'BrainSegVolNotVentSurf', 'lhCortexVol', 'rhCortexVol', 'CortexVol', 'lhCerebralWhiteMatterVol', 'rhCerebralWhiteMatterVol', 'CerebralWhiteMatterVol', 'SubCortGrayVol', 'TotalGrayVol', 'SupraTentorialVol', 'SupraTentorialVolNotVent', 'SupraTentorialVolNotVentVox', 'MaskVol', 'BrainSegVol-to-eTIV', 'MaskVol-to-eTIV', 'lhSurfaceHoles', 'rhSurfaceHoles', 'SurfaceHoles', 'EstimatedTotalIntraCranialVol', 'GrayVol_lh_bankssts', 'GrayVol_lh_caudalanteriorcingulate', 'GrayVol_lh_caudalmiddlefrontal', 'GrayVol_lh_cuneus', 'GrayVol_lh_entorhinal', 'GrayVol_lh_fusiform', 'GrayVol_lh_inferiorparietal', 'GrayVol_lh_inferiortemporal', 'GrayVol_lh_isthmuscingulate', 'GrayVol_lh_lateraloccipital', 'GrayVol_lh_lateralorbitofrontal', 'GrayVol_lh_lingual', 'GrayVol_lh_medialorbitofrontal', 'GrayVol_lh_middletemporal', 'GrayVol_lh_parahippocampal', 'GrayVol_lh_paracentral', 'GrayVol_lh_parsopercularis', 'GrayVol_lh_parsorbitalis', 'GrayVol_lh_parstriangularis', 'GrayVol_lh_pericalcarine', 'GrayVol_lh_postcentral', 'GrayVol_lh_posteriorcingulate', 'GrayVol_lh_precentral', 'GrayVol_lh_precuneus', 'GrayVol_lh_rostralanteriorcingulate', 'GrayVol_lh_rostralmiddlefrontal', 'GrayVol_lh_superiorfrontal', 'GrayVol_lh_superiorparietal', 'GrayVol_lh_superiortemporal', 'GrayVol_lh_supramarginal', 'GrayVol_lh_frontalpole', 'GrayVol_lh_temporalpole', 'GrayVol_lh_transversetemporal', 'GrayVol_lh_insula', 'GrayVol_rh_bankssts', 'GrayVol_rh_caudalanteriorcingulate', 'GrayVol_rh_caudalmiddlefrontal', 'GrayVol_rh_cuneus', 'GrayVol_rh_entorhinal', 'GrayVol_rh_fusiform', 'GrayVol_rh_inferiorparietal', 'GrayVol_rh_inferiortemporal', 'GrayVol_rh_isthmuscingulate', 'GrayVol_rh_lateraloccipital', 'GrayVol_rh_lateralorbitofrontal', 'GrayVol_rh_lingual', 'GrayVol_rh_medialorbitofrontal', 'GrayVol_rh_middletemporal', 'GrayVol_rh_parahippocampal', 'GrayVol_rh_paracentral', 'GrayVol_rh_parsopercularis', 'GrayVol_rh_parsorbitalis', 'GrayVol_rh_parstriangularis', 'GrayVol_rh_pericalcarine', 'GrayVol_rh_postcentral', 'GrayVol_rh_posteriorcingulate', 'GrayVol_rh_precentral', 'GrayVol_rh_precuneus', 'GrayVol_rh_rostralanteriorcingulate', 'GrayVol_rh_rostralmiddlefrontal', 'GrayVol_rh_superiorfrontal', 'GrayVol_rh_superiorparietal', 'GrayVol_rh_superiortemporal', 'GrayVol_rh_supramarginal', 'GrayVol_rh_frontalpole', 'GrayVol_rh_temporalpole', 'GrayVol_rh_transversetemporal', 'GrayVol_rh_insula', 'ThickAvg_lh_bankssts', 'ThickAvg_lh_caudalanteriorcingulate', 'ThickAvg_lh_caudalmiddlefrontal', 'ThickAvg_lh_cuneus', 'ThickAvg_lh_entorhinal', 'ThickAvg_lh_fusiform', 'ThickAvg_lh_inferiorparietal', 'ThickAvg_lh_inferiortemporal', 'ThickAvg_lh_isthmuscingulate', 'ThickAvg_lh_lateraloccipital', 'ThickAvg_lh_lateralorbitofrontal', 'ThickAvg_lh_lingual', 'ThickAvg_lh_medialorbitofrontal', 'ThickAvg_lh_middletemporal', 'ThickAvg_lh_parahippocampal', 'ThickAvg_lh_paracentral', 'ThickAvg_lh_parsopercularis', 'ThickAvg_lh_parsorbitalis', 'ThickAvg_lh_parstriangularis', 'ThickAvg_lh_pericalcarine', 'ThickAvg_lh_postcentral', 'ThickAvg_lh_posteriorcingulate', 'ThickAvg_lh_precentral', 'ThickAvg_lh_precuneus', 'ThickAvg_lh_rostralanteriorcingulate', 'ThickAvg_lh_rostralmiddlefrontal', 'ThickAvg_lh_superiorfrontal', 'ThickAvg_lh_superiorparietal', 'ThickAvg_lh_superiortemporal', 'ThickAvg_lh_supramarginal', 'ThickAvg_lh_frontalpole', 'ThickAvg_lh_temporalpole', 'ThickAvg_lh_transversetemporal', 'ThickAvg_lh_insula', 'ThickAvg_rh_bankssts', 'ThickAvg_rh_caudalanteriorcingulate', 'ThickAvg_rh_caudalmiddlefrontal', 'ThickAvg_rh_cuneus', 'ThickAvg_rh_entorhinal', 'ThickAvg_rh_fusiform', 'ThickAvg_rh_inferiorparietal', 'ThickAvg_rh_inferiortemporal', 'ThickAvg_rh_isthmuscingulate', 'ThickAvg_rh_lateraloccipital', 'ThickAvg_rh_lateralorbitofrontal', 'ThickAvg_rh_lingual', 'ThickAvg_rh_medialorbitofrontal', 'ThickAvg_rh_middletemporal', 'ThickAvg_rh_parahippocampal', 'ThickAvg_rh_paracentral', 'ThickAvg_rh_parsopercularis', 'ThickAvg_rh_parsorbitalis', 'ThickAvg_rh_parstriangularis', 'ThickAvg_rh_pericalcarine', 'ThickAvg_rh_postcentral', 'ThickAvg_rh_posteriorcingulate', 'ThickAvg_rh_precentral', 'ThickAvg_rh_precuneus', 'ThickAvg_rh_rostralanteriorcingulate', 'ThickAvg_rh_rostralmiddlefrontal', 'ThickAvg_rh_superiorfrontal', 'ThickAvg_rh_superiorparietal', 'ThickAvg_rh_superiortemporal', 'ThickAvg_rh_supramarginal', 'ThickAvg_rh_frontalpole', 'ThickAvg_rh_temporalpole', 'ThickAvg_rh_transversetemporal', 'ThickAvg_rh_insula', 'Sex', 'Age']\n",
      "['expo_herb', 'expo_bite', 'expo_anim', 'expo_anth', 'expo_asbe', 'expo_biow', 'expo_mopp', 'expo_napp', 'expo_wche', 'expo_chem', 'expo_chlo', 'expo_npw', 'expo_wash', 'expo_vibr', 'expo_fogo', 'expo_bloo', 'expo_poll', 'expo_infe', 'expo_inse', 'expo_pest', 'expo_radi', 'expo_lase', 'expo_nois', 'expo_pain', 'expo_petr', 'expo_wexh', 'expo_prop', 'expo_rada', 'expo_sand', 'expo_burn', 'expo_oilf', 'expo_heat', 'expo_vacc', 'expo_du', 'expo_meta']\n",
      "['Sex', 'Age', 'tbi_01a', 'tbi_01b', 'tbi_01c', 'tbi_01d', 'tbi_01e', 'tbi_02a', 'tbi_02b', 'tbi_02c', 'tbi_02d', 'tbi_02e', 'tbi_03a', 'tbi_03b', 'tbi_03c', 'tbi_03d', 'tbi_03e', 'tbi_03f', 'tbi_04a', 'tbi_04b', 'tbi_04c', 'tbi_04d', 'tbi_04e', 'tbi_04f', 'tbi_05']\n"
     ]
    }
   ],
   "source": [
    "# Targets: \"exclude expo_*, age, sex, and tbi_* columns\n",
    "target = [\n",
    "    col for col in df.columns\n",
    "    if not col.startswith('expo_') and col not in ['age', 'sex'] and not col.startswith('tbi_')\n",
    "]\n",
    "[col for col in df.columns if col.startswith('expo_')]\n",
    "\n",
    "# Features: columns starting with \"expo_\"\n",
    "feature = [col for col in df.columns if col.startswith('expo_')]\n",
    "\n",
    "print(target)\n",
    "print(feature)\n",
    "\n",
    "# Extract covariates \n",
    "covariate_cols = [col for col in df.columns if col in df_covariates.columns and col not in target_cols and col != 'SubjectID']\n",
    "print(covariate_cols)\n"
   ]
  },
  {
   "cell_type": "markdown",
   "id": "e7397dbb",
   "metadata": {},
   "source": [
    "### Regression Model (predict MRI structural measurements from exposure status)"
   ]
  },
  {
   "cell_type": "markdown",
   "id": "d3579ebd",
   "metadata": {},
   "source": [
    "How well can each exposure explain the variation in MRI values across individuals at one point in time."
   ]
  },
  {
   "cell_type": "markdown",
   "id": "5b801bf3",
   "metadata": {},
   "source": [
    "10-fold cross-validation.\n"
   ]
  },
  {
   "cell_type": "markdown",
   "id": "ce429b40",
   "metadata": {},
   "source": [
    "w/o covariates"
   ]
  },
  {
   "cell_type": "code",
   "execution_count": 61,
   "id": "0c1b51da",
   "metadata": {},
   "outputs": [
    {
     "data": {
      "text/html": [
       "<div>\n",
       "<style scoped>\n",
       "    .dataframe tbody tr th:only-of-type {\n",
       "        vertical-align: middle;\n",
       "    }\n",
       "\n",
       "    .dataframe tbody tr th {\n",
       "        vertical-align: top;\n",
       "    }\n",
       "\n",
       "    .dataframe thead th {\n",
       "        text-align: right;\n",
       "    }\n",
       "</style>\n",
       "<table border=\"1\" class=\"dataframe\">\n",
       "  <thead>\n",
       "    <tr style=\"text-align: right;\">\n",
       "      <th></th>\n",
       "      <th>MRI Target</th>\n",
       "      <th>Top Exposure</th>\n",
       "      <th>R² Mean</th>\n",
       "      <th>RMSE Mean</th>\n",
       "      <th>MAE Mean</th>\n",
       "      <th>Mean MRI Value</th>\n",
       "    </tr>\n",
       "  </thead>\n",
       "  <tbody>\n",
       "    <tr>\n",
       "      <th>174</th>\n",
       "      <td>ThickAvg_rh_medialorbitofrontal</td>\n",
       "      <td>expo_napp</td>\n",
       "      <td>0.072</td>\n",
       "      <td>0.146</td>\n",
       "      <td>0.115</td>\n",
       "      <td>2.510</td>\n",
       "    </tr>\n",
       "    <tr>\n",
       "      <th>26</th>\n",
       "      <td>Right-Hippocampus</td>\n",
       "      <td>expo_heat</td>\n",
       "      <td>0.021</td>\n",
       "      <td>423.194</td>\n",
       "      <td>352.149</td>\n",
       "      <td>4241.989</td>\n",
       "    </tr>\n",
       "    <tr>\n",
       "      <th>108</th>\n",
       "      <td>GrayVol_rh_parahippocampal</td>\n",
       "      <td>expo_vibr</td>\n",
       "      <td>0.013</td>\n",
       "      <td>293.394</td>\n",
       "      <td>232.786</td>\n",
       "      <td>2056.163</td>\n",
       "    </tr>\n",
       "    <tr>\n",
       "      <th>137</th>\n",
       "      <td>ThickAvg_lh_lateraloccipital</td>\n",
       "      <td>expo_bite</td>\n",
       "      <td>0.011</td>\n",
       "      <td>0.108</td>\n",
       "      <td>0.089</td>\n",
       "      <td>2.159</td>\n",
       "    </tr>\n",
       "    <tr>\n",
       "      <th>133</th>\n",
       "      <td>ThickAvg_lh_fusiform</td>\n",
       "      <td>expo_heat</td>\n",
       "      <td>0.010</td>\n",
       "      <td>0.120</td>\n",
       "      <td>0.098</td>\n",
       "      <td>2.742</td>\n",
       "    </tr>\n",
       "  </tbody>\n",
       "</table>\n",
       "</div>"
      ],
      "text/plain": [
       "                          MRI Target Top Exposure  R² Mean  RMSE Mean  \\\n",
       "174  ThickAvg_rh_medialorbitofrontal    expo_napp    0.072      0.146   \n",
       "26                 Right-Hippocampus    expo_heat    0.021    423.194   \n",
       "108       GrayVol_rh_parahippocampal    expo_vibr    0.013    293.394   \n",
       "137     ThickAvg_lh_lateraloccipital    expo_bite    0.011      0.108   \n",
       "133             ThickAvg_lh_fusiform    expo_heat    0.010      0.120   \n",
       "\n",
       "     MAE Mean  Mean MRI Value  \n",
       "174     0.115           2.510  \n",
       "26    352.149        4241.989  \n",
       "108   232.786        2056.163  \n",
       "137     0.089           2.159  \n",
       "133     0.098           2.742  "
      ]
     },
     "execution_count": 61,
     "metadata": {},
     "output_type": "execute_result"
    }
   ],
   "source": [
    "import pandas as pd\n",
    "import numpy as np\n",
    "from sklearn.model_selection import KFold, cross_val_score\n",
    "from sklearn.preprocessing import StandardScaler\n",
    "from sklearn.impute import SimpleImputer\n",
    "from sklearn.linear_model import LinearRegression\n",
    "from sklearn.metrics import make_scorer, mean_squared_error, mean_absolute_error\n",
    "\n",
    "# ===== CONFIG =====\n",
    "N_SPLITS = 10   # 10-fold CV\n",
    "RANDOM_STATE = 42\n",
    "\n",
    "# Custom scorers for RMSE and MAE\n",
    "def rmse(y_true, y_pred):\n",
    "    return np.sqrt(mean_squared_error(y_true, y_pred))\n",
    "\n",
    "rmse_scorer = make_scorer(rmse, greater_is_better=False)\n",
    "mae_scorer = make_scorer(mean_absolute_error, greater_is_better=False)\n",
    "\n",
    "results_cv = []\n",
    "\n",
    "for mri_target in target:\n",
    "    y = pd.to_numeric(df[mri_target], errors='coerce')\n",
    "    X_exposures = df[feature].apply(pd.to_numeric, errors='coerce')\n",
    "\n",
    "    # Drop missing values in target\n",
    "    mask = y.notna()\n",
    "    y = y.loc[mask]\n",
    "    X_exposures = X_exposures.loc[mask]\n",
    "\n",
    "    if y.shape[0] == 0:\n",
    "        continue\n",
    "\n",
    "    # Step 1: Find top exposure based on correlation with target\n",
    "    corr_values = X_exposures.corrwith(y)\n",
    "    top_exposure = corr_values.abs().idxmax()\n",
    "\n",
    "    X_top = X_exposures[[top_exposure]]\n",
    "\n",
    "    # Step 2: Impute + scale exposures\n",
    "    exp_imputer = SimpleImputer(strategy='median')\n",
    "    X_top_imputed = exp_imputer.fit_transform(X_top)\n",
    "    exp_scaler = StandardScaler()\n",
    "    X_top_std = exp_scaler.fit_transform(X_top_imputed)\n",
    "\n",
    "    # Step 3: Cross-validation\n",
    "    model = LinearRegression()\n",
    "    kf = KFold(n_splits=N_SPLITS, shuffle=True, random_state=RANDOM_STATE)\n",
    "\n",
    "    r2_scores = cross_val_score(model, X_top_std, y, cv=kf, scoring=\"r2\")\n",
    "    rmse_scores = cross_val_score(model, X_top_std, y, cv=kf, scoring=rmse_scorer)\n",
    "    mae_scores = cross_val_score(model, X_top_std, y, cv=kf, scoring=mae_scorer)\n",
    "\n",
    "    results_cv.append({\n",
    "        \"MRI Target\": mri_target,\n",
    "        \"Top Exposure\": top_exposure,\n",
    "        \"R² Mean\": np.mean(r2_scores),\n",
    "        \"RMSE Mean\": -np.mean(rmse_scores),  # negate because greater_is_better=False\n",
    "        \"MAE Mean\": -np.mean(mae_scores),    # same here\n",
    "        \"Mean MRI Value\": y.mean()               # <- NEW: average MRI value\n",
    "    })\n",
    "\n",
    "# Results dataframe\n",
    "results_cv_df = pd.DataFrame(results_cv).sort_values(\"R² Mean\", ascending=False)\n",
    "\n",
    "# Format\n",
    "results_cv_df = results_cv_df.round({\n",
    "    \"R² Mean\": 3,\n",
    "    \"RMSE Mean\": 3,\n",
    "    \"MAE Mean\": 3,\n",
    "    \"Mean MRI Value\": 3\n",
    "})\n",
    "\n",
    "pd.set_option('display.max_rows', None)\n",
    "results_cv_df.head()\n"
   ]
  },
  {
   "cell_type": "markdown",
   "id": "3386c718",
   "metadata": {},
   "source": [
    "W/ covariates"
   ]
  },
  {
   "cell_type": "code",
   "execution_count": 64,
   "id": "4181f8ed",
   "metadata": {},
   "outputs": [
    {
     "data": {
      "text/html": [
       "<div>\n",
       "<style scoped>\n",
       "    .dataframe tbody tr th:only-of-type {\n",
       "        vertical-align: middle;\n",
       "    }\n",
       "\n",
       "    .dataframe tbody tr th {\n",
       "        vertical-align: top;\n",
       "    }\n",
       "\n",
       "    .dataframe thead th {\n",
       "        text-align: right;\n",
       "    }\n",
       "</style>\n",
       "<table border=\"1\" class=\"dataframe\">\n",
       "  <thead>\n",
       "    <tr style=\"text-align: right;\">\n",
       "      <th></th>\n",
       "      <th>MRI Target</th>\n",
       "      <th>Top Exposure</th>\n",
       "      <th>R² Mean</th>\n",
       "      <th>RMSE Mean</th>\n",
       "      <th>MAE Mean</th>\n",
       "      <th>Mean MRI Value</th>\n",
       "    </tr>\n",
       "  </thead>\n",
       "  <tbody>\n",
       "    <tr>\n",
       "      <th>154</th>\n",
       "      <td>ThickAvg_lh_superiorfrontal</td>\n",
       "      <td>Age</td>\n",
       "      <td>0.196</td>\n",
       "      <td>0.126</td>\n",
       "      <td>0.105</td>\n",
       "      <td>2.741</td>\n",
       "    </tr>\n",
       "    <tr>\n",
       "      <th>144</th>\n",
       "      <td>ThickAvg_lh_parsopercularis</td>\n",
       "      <td>Age</td>\n",
       "      <td>0.182</td>\n",
       "      <td>0.120</td>\n",
       "      <td>0.098</td>\n",
       "      <td>2.597</td>\n",
       "    </tr>\n",
       "    <tr>\n",
       "      <th>188</th>\n",
       "      <td>ThickAvg_rh_superiorfrontal</td>\n",
       "      <td>Age</td>\n",
       "      <td>0.180</td>\n",
       "      <td>0.118</td>\n",
       "      <td>0.095</td>\n",
       "      <td>2.700</td>\n",
       "    </tr>\n",
       "    <tr>\n",
       "      <th>153</th>\n",
       "      <td>ThickAvg_lh_rostralmiddlefrontal</td>\n",
       "      <td>Age</td>\n",
       "      <td>0.171</td>\n",
       "      <td>0.123</td>\n",
       "      <td>0.101</td>\n",
       "      <td>2.469</td>\n",
       "    </tr>\n",
       "    <tr>\n",
       "      <th>195</th>\n",
       "      <td>ThickAvg_rh_insula</td>\n",
       "      <td>Age</td>\n",
       "      <td>0.170</td>\n",
       "      <td>0.149</td>\n",
       "      <td>0.120</td>\n",
       "      <td>3.012</td>\n",
       "    </tr>\n",
       "  </tbody>\n",
       "</table>\n",
       "</div>"
      ],
      "text/plain": [
       "                           MRI Target Top Exposure  R² Mean  RMSE Mean  \\\n",
       "154       ThickAvg_lh_superiorfrontal          Age    0.196      0.126   \n",
       "144       ThickAvg_lh_parsopercularis          Age    0.182      0.120   \n",
       "188       ThickAvg_rh_superiorfrontal          Age    0.180      0.118   \n",
       "153  ThickAvg_lh_rostralmiddlefrontal          Age    0.171      0.123   \n",
       "195                ThickAvg_rh_insula          Age    0.170      0.149   \n",
       "\n",
       "     MAE Mean  Mean MRI Value  \n",
       "154     0.105           2.741  \n",
       "144     0.098           2.597  \n",
       "188     0.095           2.700  \n",
       "153     0.101           2.469  \n",
       "195     0.120           3.012  "
      ]
     },
     "execution_count": 64,
     "metadata": {},
     "output_type": "execute_result"
    }
   ],
   "source": [
    "import pandas as pd\n",
    "import numpy as np\n",
    "from sklearn.model_selection import KFold, cross_val_score\n",
    "from sklearn.preprocessing import StandardScaler\n",
    "from sklearn.impute import SimpleImputer\n",
    "from sklearn.linear_model import LinearRegression\n",
    "from sklearn.metrics import make_scorer, mean_squared_error, mean_absolute_error\n",
    "\n",
    "# ===== CONFIG =====\n",
    "N_SPLITS = 10   # 10-fold CV\n",
    "RANDOM_STATE = 42\n",
    "\n",
    "# Custom scorers for RMSE and MAE\n",
    "def rmse(y_true, y_pred):\n",
    "    return np.sqrt(mean_squared_error(y_true, y_pred))\n",
    "\n",
    "rmse_scorer = make_scorer(rmse, greater_is_better=False)\n",
    "mae_scorer = make_scorer(mean_absolute_error, greater_is_better=False)\n",
    "\n",
    "# Remove non-MRI targets (e.g., Age, Sex)\n",
    "exclude_targets = [\"Age\", \"Sex\"]\n",
    "mri_targets = [t for t in target if t not in exclude_targets]\n",
    "\n",
    "results_cv = []\n",
    "\n",
    "for mri_target in mri_targets:   # use filtered list here\n",
    "    y = pd.to_numeric(df[mri_target], errors='coerce')\n",
    "    X_exposures = df[feature + covariate_cols].apply(pd.to_numeric, errors='coerce')\n",
    "\n",
    "    # Drop missing values in target\n",
    "    mask = y.notna()\n",
    "    y = y.loc[mask]\n",
    "    X_exposures = X_exposures.loc[mask]\n",
    "\n",
    "    if y.shape[0] == 0:\n",
    "        continue\n",
    "\n",
    "    # Step 1: Find top exposure based on correlation with target\n",
    "    corr_values = X_exposures.corrwith(y)\n",
    "    top_exposure = corr_values.abs().idxmax()\n",
    "\n",
    "    X_top = X_exposures[[top_exposure]]\n",
    "\n",
    "    # Step 2: Impute + scale exposures\n",
    "    exp_imputer = SimpleImputer(strategy='median')\n",
    "    X_top_imputed = exp_imputer.fit_transform(X_top)\n",
    "    exp_scaler = StandardScaler()\n",
    "    X_top_std = exp_scaler.fit_transform(X_top_imputed)\n",
    "\n",
    "    # Step 3: Cross-validation\n",
    "    model = LinearRegression()\n",
    "    kf = KFold(n_splits=N_SPLITS, shuffle=True, random_state=RANDOM_STATE)\n",
    "\n",
    "    r2_scores = cross_val_score(model, X_top_std, y, cv=kf, scoring=\"r2\")\n",
    "    rmse_scores = cross_val_score(model, X_top_std, y, cv=kf, scoring=rmse_scorer)\n",
    "    mae_scores = cross_val_score(model, X_top_std, y, cv=kf, scoring=mae_scorer)\n",
    "\n",
    "    results_cv.append({\n",
    "        \"MRI Target\": mri_target,\n",
    "        \"Top Exposure\": top_exposure,\n",
    "        \"R² Mean\": np.mean(r2_scores),\n",
    "        \"RMSE Mean\": -np.mean(rmse_scores),\n",
    "        \"MAE Mean\": -np.mean(mae_scores),\n",
    "        \"Mean MRI Value\": y.mean()\n",
    "    })\n",
    "\n",
    "# Results dataframe\n",
    "results_cv_df = pd.DataFrame(results_cv).sort_values(\"R² Mean\", ascending=False).round({\n",
    "    \"R² Mean\": 3,\n",
    "    \"RMSE Mean\": 3,\n",
    "    \"MAE Mean\": 3,\n",
    "    \"Mean MRI Value\": 3\n",
    "})\n",
    "\n",
    "pd.set_option('display.max_rows', None)\n",
    "results_cv_df.head()\n"
   ]
  },
  {
   "cell_type": "markdown",
   "id": "8ee7bcdd",
   "metadata": {},
   "source": [
    "W/ Covariates adjusted."
   ]
  },
  {
   "cell_type": "code",
   "execution_count": 63,
   "id": "6f746cd3",
   "metadata": {},
   "outputs": [
    {
     "data": {
      "text/html": [
       "<div>\n",
       "<style scoped>\n",
       "    .dataframe tbody tr th:only-of-type {\n",
       "        vertical-align: middle;\n",
       "    }\n",
       "\n",
       "    .dataframe tbody tr th {\n",
       "        vertical-align: top;\n",
       "    }\n",
       "\n",
       "    .dataframe thead th {\n",
       "        text-align: right;\n",
       "    }\n",
       "</style>\n",
       "<table border=\"1\" class=\"dataframe\">\n",
       "  <thead>\n",
       "    <tr style=\"text-align: right;\">\n",
       "      <th></th>\n",
       "      <th>MRI Target</th>\n",
       "      <th>Top Exposure</th>\n",
       "      <th>R² Mean</th>\n",
       "      <th>RMSE Mean</th>\n",
       "      <th>MAE Mean</th>\n",
       "      <th>Mean MRI Value</th>\n",
       "    </tr>\n",
       "  </thead>\n",
       "  <tbody>\n",
       "    <tr>\n",
       "      <th>196</th>\n",
       "      <td>Sex</td>\n",
       "      <td>expo_vibr</td>\n",
       "      <td>-0.046</td>\n",
       "      <td>0.000</td>\n",
       "      <td>0.000</td>\n",
       "      <td>0.867</td>\n",
       "    </tr>\n",
       "    <tr>\n",
       "      <th>197</th>\n",
       "      <td>Age</td>\n",
       "      <td>expo_vibr</td>\n",
       "      <td>-0.047</td>\n",
       "      <td>0.000</td>\n",
       "      <td>0.000</td>\n",
       "      <td>57.050</td>\n",
       "    </tr>\n",
       "    <tr>\n",
       "      <th>54</th>\n",
       "      <td>BrainSegVol-to-eTIV</td>\n",
       "      <td>expo_nois</td>\n",
       "      <td>-0.027</td>\n",
       "      <td>0.028</td>\n",
       "      <td>0.022</td>\n",
       "      <td>0.779</td>\n",
       "    </tr>\n",
       "    <tr>\n",
       "      <th>55</th>\n",
       "      <td>MaskVol-to-eTIV</td>\n",
       "      <td>expo_napp</td>\n",
       "      <td>-0.072</td>\n",
       "      <td>0.032</td>\n",
       "      <td>0.025</td>\n",
       "      <td>1.054</td>\n",
       "    </tr>\n",
       "    <tr>\n",
       "      <th>155</th>\n",
       "      <td>ThickAvg_lh_superiorparietal</td>\n",
       "      <td>expo_nois</td>\n",
       "      <td>-0.024</td>\n",
       "      <td>0.095</td>\n",
       "      <td>0.075</td>\n",
       "      <td>2.158</td>\n",
       "    </tr>\n",
       "  </tbody>\n",
       "</table>\n",
       "</div>"
      ],
      "text/plain": [
       "                       MRI Target Top Exposure  R² Mean  RMSE Mean  MAE Mean  \\\n",
       "196                           Sex    expo_vibr   -0.046      0.000     0.000   \n",
       "197                           Age    expo_vibr   -0.047      0.000     0.000   \n",
       "54            BrainSegVol-to-eTIV    expo_nois   -0.027      0.028     0.022   \n",
       "55                MaskVol-to-eTIV    expo_napp   -0.072      0.032     0.025   \n",
       "155  ThickAvg_lh_superiorparietal    expo_nois   -0.024      0.095     0.075   \n",
       "\n",
       "     Mean MRI Value  \n",
       "196           0.867  \n",
       "197          57.050  \n",
       "54            0.779  \n",
       "55            1.054  \n",
       "155           2.158  "
      ]
     },
     "execution_count": 63,
     "metadata": {},
     "output_type": "execute_result"
    }
   ],
   "source": [
    "import pandas as pd\n",
    "import numpy as np\n",
    "from sklearn.model_selection import KFold, cross_val_score\n",
    "from sklearn.preprocessing import StandardScaler\n",
    "from sklearn.impute import SimpleImputer\n",
    "from sklearn.linear_model import LinearRegression\n",
    "from sklearn.metrics import make_scorer, mean_squared_error, mean_absolute_error\n",
    "\n",
    "# ===== CONFIG =====\n",
    "N_SPLITS = 10   # 10-fold CV\n",
    "RANDOM_STATE = 42\n",
    "\n",
    "# Custom scorers for RMSE and MAE\n",
    "def rmse(y_true, y_pred):\n",
    "    return np.sqrt(mean_squared_error(y_true, y_pred))\n",
    "\n",
    "rmse_scorer = make_scorer(rmse, greater_is_better=False)\n",
    "mae_scorer = make_scorer(mean_absolute_error, greater_is_better=False)\n",
    "\n",
    "results_cv = []\n",
    "\n",
    "for mri_target in target:\n",
    "    y = pd.to_numeric(df[mri_target], errors='coerce')\n",
    "    X_exposures = df[feature].apply(pd.to_numeric, errors='coerce')\n",
    "    X_covariates = df[covariate_cols].apply(pd.to_numeric, errors='coerce')\n",
    "\n",
    "    # Drop missing values in target\n",
    "    mask = y.notna()\n",
    "    y = y.loc[mask]\n",
    "    X_exposures = X_exposures.loc[mask]\n",
    "    X_covariates = X_covariates.loc[mask]\n",
    "\n",
    "    if y.shape[0] == 0:\n",
    "        continue\n",
    "\n",
    "    # Step 1: Residualize MRI target by covariates\n",
    "    cov_imputer = SimpleImputer(strategy='median')\n",
    "    X_cov_imputed = cov_imputer.fit_transform(X_covariates)\n",
    "    cov_scaler = StandardScaler()\n",
    "    X_cov_std = cov_scaler.fit_transform(X_cov_imputed)\n",
    "\n",
    "    cov_model = LinearRegression()\n",
    "    cov_model.fit(X_cov_std, y)\n",
    "    y_resid = y - cov_model.predict(X_cov_std)\n",
    "\n",
    "    # Step 2: Find top exposure based on correlation with residuals\n",
    "    corr_values = X_exposures.corrwith(pd.Series(y_resid, index=y.index))\n",
    "    top_exposure = corr_values.abs().idxmax()\n",
    "\n",
    "    X_top = X_exposures[[top_exposure]]\n",
    "\n",
    "    # Step 3: Impute + scale exposures\n",
    "    exp_imputer = SimpleImputer(strategy='median')\n",
    "    X_top_imputed = exp_imputer.fit_transform(X_top)\n",
    "    exp_scaler = StandardScaler()\n",
    "    X_top_std = exp_scaler.fit_transform(X_top_imputed)\n",
    "\n",
    "    # Step 4: Cross-validation using residualized y\n",
    "    model = LinearRegression()\n",
    "    kf = KFold(n_splits=N_SPLITS, shuffle=True, random_state=RANDOM_STATE)\n",
    "\n",
    "    r2_scores = cross_val_score(model, X_top_std, y_resid, cv=kf, scoring=\"r2\")\n",
    "    rmse_scores = cross_val_score(model, X_top_std, y_resid, cv=kf, scoring=rmse_scorer)\n",
    "    mae_scores = cross_val_score(model, X_top_std, y_resid, cv=kf, scoring=mae_scorer)\n",
    "\n",
    "    results_cv.append({\n",
    "        \"MRI Target\": mri_target,\n",
    "        \"Top Exposure\": top_exposure,\n",
    "        \"R² Mean\": np.mean(r2_scores),\n",
    "        \"RMSE Mean\": -np.mean(rmse_scores),\n",
    "        \"MAE Mean\": -np.mean(mae_scores),\n",
    "        \"Mean MRI Value\": y.mean()   # swapped Min/Max for average MRI value\n",
    "    })\n",
    "\n",
    "# Results dataframe\n",
    "results_cv_df = pd.DataFrame(results_cv).sort_values(\"MAE Mean\", ascending=True)\n",
    "\n",
    "# Format\n",
    "results_cv_df = results_cv_df.round({\n",
    "    \"R² Mean\": 3,\n",
    "    \"RMSE Mean\": 3,\n",
    "    \"MAE Mean\": 3,\n",
    "    \"Mean MRI Value\": 3\n",
    "})\n",
    "\n",
    "pd.set_option('display.max_rows', None)\n",
    "results_cv_df.head()\n"
   ]
  },
  {
   "cell_type": "markdown",
   "id": "c57d51e8",
   "metadata": {},
   "source": [
    "#### Lasso, Ridge and Elastic Net Regression (w covariates).\n"
   ]
  },
  {
   "cell_type": "code",
   "execution_count": null,
   "id": "efe05305",
   "metadata": {},
   "outputs": [
    {
     "data": {
      "text/html": [
       "<div>\n",
       "<style scoped>\n",
       "    .dataframe tbody tr th:only-of-type {\n",
       "        vertical-align: middle;\n",
       "    }\n",
       "\n",
       "    .dataframe tbody tr th {\n",
       "        vertical-align: top;\n",
       "    }\n",
       "\n",
       "    .dataframe thead th {\n",
       "        text-align: right;\n",
       "    }\n",
       "</style>\n",
       "<table border=\"1\" class=\"dataframe\">\n",
       "  <thead>\n",
       "    <tr style=\"text-align: right;\">\n",
       "      <th></th>\n",
       "      <th>MRI Target</th>\n",
       "      <th>Top Exposure</th>\n",
       "      <th>R² Linear</th>\n",
       "      <th>R² Ridge</th>\n",
       "      <th>R² Lasso</th>\n",
       "      <th>R² ElasticNet</th>\n",
       "    </tr>\n",
       "  </thead>\n",
       "  <tbody>\n",
       "    <tr>\n",
       "      <th>174</th>\n",
       "      <td>ThickAvg_rh_medialorbitofrontal</td>\n",
       "      <td>expo_napp</td>\n",
       "      <td>0.017</td>\n",
       "      <td>0.017</td>\n",
       "      <td>0.010</td>\n",
       "      <td>0.015</td>\n",
       "    </tr>\n",
       "    <tr>\n",
       "      <th>137</th>\n",
       "      <td>ThickAvg_lh_lateraloccipital</td>\n",
       "      <td>expo_bite</td>\n",
       "      <td>0.016</td>\n",
       "      <td>0.016</td>\n",
       "      <td>0.002</td>\n",
       "      <td>0.012</td>\n",
       "    </tr>\n",
       "    <tr>\n",
       "      <th>171</th>\n",
       "      <td>ThickAvg_rh_lateraloccipital</td>\n",
       "      <td>expo_bite</td>\n",
       "      <td>0.001</td>\n",
       "      <td>0.001</td>\n",
       "      <td>-0.007</td>\n",
       "      <td>-0.000</td>\n",
       "    </tr>\n",
       "    <tr>\n",
       "      <th>160</th>\n",
       "      <td>ThickAvg_lh_transversetemporal</td>\n",
       "      <td>expo_bite</td>\n",
       "      <td>0.000</td>\n",
       "      <td>0.000</td>\n",
       "      <td>-0.006</td>\n",
       "      <td>-0.002</td>\n",
       "    </tr>\n",
       "    <tr>\n",
       "      <th>194</th>\n",
       "      <td>ThickAvg_rh_transversetemporal</td>\n",
       "      <td>expo_sand</td>\n",
       "      <td>-0.001</td>\n",
       "      <td>-0.001</td>\n",
       "      <td>-0.004</td>\n",
       "      <td>-0.002</td>\n",
       "    </tr>\n",
       "  </tbody>\n",
       "</table>\n",
       "</div>"
      ],
      "text/plain": [
       "                          MRI Target Top Exposure  R² Linear  R² Ridge  \\\n",
       "174  ThickAvg_rh_medialorbitofrontal    expo_napp      0.017     0.017   \n",
       "137     ThickAvg_lh_lateraloccipital    expo_bite      0.016     0.016   \n",
       "171     ThickAvg_rh_lateraloccipital    expo_bite      0.001     0.001   \n",
       "160   ThickAvg_lh_transversetemporal    expo_bite      0.000     0.000   \n",
       "194   ThickAvg_rh_transversetemporal    expo_sand     -0.001    -0.001   \n",
       "\n",
       "     R² Lasso  R² ElasticNet  \n",
       "174     0.010          0.015  \n",
       "137     0.002          0.012  \n",
       "171    -0.007         -0.000  \n",
       "160    -0.006         -0.002  \n",
       "194    -0.004         -0.002  "
      ]
     },
     "execution_count": 67,
     "metadata": {},
     "output_type": "execute_result"
    }
   ],
   "source": [
    "import pandas as pd\n",
    "import numpy as np\n",
    "from sklearn.model_selection import KFold, cross_val_score\n",
    "from sklearn.preprocessing import StandardScaler\n",
    "from sklearn.impute import SimpleImputer\n",
    "from sklearn.linear_model import LinearRegression, Ridge, Lasso, ElasticNet\n",
    "\n",
    "# ===== CONFIG =====\n",
    "N_SPLITS = 10   # 10-fold CV\n",
    "RANDOM_STATE = 42\n",
    "\n",
    "results_cv = []\n",
    "\n",
    "for mri_target in target:\n",
    "    y = pd.to_numeric(df[mri_target], errors='coerce')\n",
    "    X_exposures = df[feature].apply(pd.to_numeric, errors='coerce')\n",
    "    X_covariates = df[covariate_cols].apply(pd.to_numeric, errors='coerce')\n",
    "\n",
    "    # Drop missing values in target\n",
    "    mask = y.notna()\n",
    "    y = y.loc[mask]\n",
    "    X_exposures = X_exposures.loc[mask]\n",
    "    X_covariates = X_covariates.loc[mask]\n",
    "\n",
    "    if y.shape[0] == 0:\n",
    "        continue\n",
    "\n",
    "    # Step 1: Residualize MRI target by covariates\n",
    "    cov_imputer = SimpleImputer(strategy='median')\n",
    "    X_cov_imputed = cov_imputer.fit_transform(X_covariates)\n",
    "    cov_scaler = StandardScaler()\n",
    "    X_cov_std = cov_scaler.fit_transform(X_cov_imputed)\n",
    "\n",
    "    cov_model = LinearRegression()\n",
    "    cov_model.fit(X_cov_std, y)\n",
    "    y_resid = y - cov_model.predict(X_cov_std)\n",
    "\n",
    "    # Step 2: Find top exposure based on correlation with residuals\n",
    "    corr_values = X_exposures.corrwith(pd.Series(y_resid, index=y.index))\n",
    "    top_exposure = corr_values.abs().idxmax()\n",
    "    X_top = X_exposures[[top_exposure]]\n",
    "\n",
    "    # Step 3: Impute + scale exposures\n",
    "    exp_imputer = SimpleImputer(strategy='median')\n",
    "    X_top_imputed = exp_imputer.fit_transform(X_top)\n",
    "    exp_scaler = StandardScaler()\n",
    "    X_top_std = exp_scaler.fit_transform(X_top_imputed)\n",
    "\n",
    "    # Step 4: Cross-validation for multiple models\n",
    "    kf = KFold(n_splits=N_SPLITS, shuffle=True, random_state=RANDOM_STATE)\n",
    "\n",
    "    models = {\n",
    "        \"Linear\": LinearRegression(),\n",
    "        \"Ridge\": Ridge(alpha=1.0, random_state=RANDOM_STATE),\n",
    "        \"Lasso\": Lasso(alpha=0.01, random_state=RANDOM_STATE, max_iter=10000),\n",
    "        \"ElasticNet\": ElasticNet(alpha=0.01, l1_ratio=0.5, random_state=RANDOM_STATE, max_iter=10000)\n",
    "    }\n",
    "\n",
    "    scores = {}\n",
    "    for name, model in models.items():\n",
    "        cv_scores = cross_val_score(model, X_top_std, y_resid, cv=kf, scoring=\"r2\")\n",
    "        scores[name] = np.mean(cv_scores)\n",
    "\n",
    "    results_cv.append({\n",
    "        \"MRI Target\": mri_target,\n",
    "        \"Top Exposure\": top_exposure,\n",
    "        \"R² Linear\": scores[\"Linear\"],\n",
    "        \"R² Ridge\": scores[\"Ridge\"],\n",
    "        \"R² Lasso\": scores[\"Lasso\"],\n",
    "        \"R² ElasticNet\": scores[\"ElasticNet\"]\n",
    "    })\n",
    "\n",
    "# Results dataframe\n",
    "results_cv_df = pd.DataFrame(results_cv).sort_values(\"R² Linear\", ascending=False)\n",
    "\n",
    "# Format\n",
    "results_cv_df = results_cv_df.round({\n",
    "    \"R² Linear\": 3,\n",
    "    \"R² Ridge\": 3,\n",
    "    \"R² Lasso\": 3,\n",
    "    \"R² ElasticNet\": 3\n",
    "})\n",
    "\n",
    "pd.set_option('display.max_rows', None)\n",
    "results_cv_df.head()\n"
   ]
  },
  {
   "cell_type": "markdown",
   "id": "1187031d",
   "metadata": {},
   "source": [
    "#### Non-linear models.\n"
   ]
  },
  {
   "cell_type": "markdown",
   "id": "b897779b",
   "metadata": {},
   "source": [
    "##### Random Forest"
   ]
  },
  {
   "cell_type": "code",
   "execution_count": null,
   "id": "53fa6747",
   "metadata": {},
   "outputs": [
    {
     "data": {
      "text/html": [
       "<div>\n",
       "<style scoped>\n",
       "    .dataframe tbody tr th:only-of-type {\n",
       "        vertical-align: middle;\n",
       "    }\n",
       "\n",
       "    .dataframe tbody tr th {\n",
       "        vertical-align: top;\n",
       "    }\n",
       "\n",
       "    .dataframe thead th {\n",
       "        text-align: right;\n",
       "    }\n",
       "</style>\n",
       "<table border=\"1\" class=\"dataframe\">\n",
       "  <thead>\n",
       "    <tr style=\"text-align: right;\">\n",
       "      <th></th>\n",
       "      <th>MRI Target</th>\n",
       "      <th>Top Exposure</th>\n",
       "      <th>R² Mean</th>\n",
       "      <th>RMSE Mean</th>\n",
       "      <th>MAE Mean</th>\n",
       "      <th>Mean MRI Value</th>\n",
       "    </tr>\n",
       "  </thead>\n",
       "  <tbody>\n",
       "    <tr>\n",
       "      <th>137</th>\n",
       "      <td>ThickAvg_lh_lateraloccipital</td>\n",
       "      <td>expo_bite</td>\n",
       "      <td>0.016</td>\n",
       "      <td>0.101</td>\n",
       "      <td>0.081</td>\n",
       "      <td>2.159</td>\n",
       "    </tr>\n",
       "    <tr>\n",
       "      <th>174</th>\n",
       "      <td>ThickAvg_rh_medialorbitofrontal</td>\n",
       "      <td>expo_napp</td>\n",
       "      <td>0.016</td>\n",
       "      <td>0.136</td>\n",
       "      <td>0.109</td>\n",
       "      <td>2.510</td>\n",
       "    </tr>\n",
       "    <tr>\n",
       "      <th>171</th>\n",
       "      <td>ThickAvg_rh_lateraloccipital</td>\n",
       "      <td>expo_bite</td>\n",
       "      <td>0.001</td>\n",
       "      <td>0.094</td>\n",
       "      <td>0.079</td>\n",
       "      <td>2.267</td>\n",
       "    </tr>\n",
       "    <tr>\n",
       "      <th>160</th>\n",
       "      <td>ThickAvg_lh_transversetemporal</td>\n",
       "      <td>expo_bite</td>\n",
       "      <td>-0.000</td>\n",
       "      <td>0.187</td>\n",
       "      <td>0.152</td>\n",
       "      <td>2.420</td>\n",
       "    </tr>\n",
       "    <tr>\n",
       "      <th>194</th>\n",
       "      <td>ThickAvg_rh_transversetemporal</td>\n",
       "      <td>expo_sand</td>\n",
       "      <td>-0.001</td>\n",
       "      <td>0.200</td>\n",
       "      <td>0.157</td>\n",
       "      <td>2.468</td>\n",
       "    </tr>\n",
       "  </tbody>\n",
       "</table>\n",
       "</div>"
      ],
      "text/plain": [
       "                          MRI Target Top Exposure  R² Mean  RMSE Mean  \\\n",
       "137     ThickAvg_lh_lateraloccipital    expo_bite    0.016      0.101   \n",
       "174  ThickAvg_rh_medialorbitofrontal    expo_napp    0.016      0.136   \n",
       "171     ThickAvg_rh_lateraloccipital    expo_bite    0.001      0.094   \n",
       "160   ThickAvg_lh_transversetemporal    expo_bite   -0.000      0.187   \n",
       "194   ThickAvg_rh_transversetemporal    expo_sand   -0.001      0.200   \n",
       "\n",
       "     MAE Mean  Mean MRI Value  \n",
       "137     0.081           2.159  \n",
       "174     0.109           2.510  \n",
       "171     0.079           2.267  \n",
       "160     0.152           2.420  \n",
       "194     0.157           2.468  "
      ]
     },
     "execution_count": 220,
     "metadata": {},
     "output_type": "execute_result"
    }
   ],
   "source": [
    "import pandas as pd\n",
    "import numpy as np\n",
    "from sklearn.model_selection import KFold, cross_val_score\n",
    "from sklearn.preprocessing import StandardScaler\n",
    "from sklearn.impute import SimpleImputer\n",
    "from sklearn.ensemble import RandomForestRegressor\n",
    "from sklearn.metrics import make_scorer, mean_squared_error, mean_absolute_error\n",
    "from sklearn.linear_model import LinearRegression\n",
    "\n",
    "# ===== CONFIG =====\n",
    "N_SPLITS = 10\n",
    "RANDOM_STATE = 42\n",
    "\n",
    "# Custom scorers\n",
    "def rmse(y_true, y_pred):\n",
    "    return np.sqrt(mean_squared_error(y_true, y_pred))\n",
    "\n",
    "rmse_scorer = make_scorer(rmse, greater_is_better=False)\n",
    "mae_scorer = make_scorer(mean_absolute_error, greater_is_better=False)\n",
    "\n",
    "results_rf = []\n",
    "\n",
    "for mri_target in target:\n",
    "    y = pd.to_numeric(df[mri_target], errors='coerce')\n",
    "    X_exposures = df[feature].apply(pd.to_numeric, errors='coerce')\n",
    "    X_covariates = df[covariate_cols].apply(pd.to_numeric, errors='coerce')\n",
    "\n",
    "    # Drop missing in target\n",
    "    mask = y.notna()\n",
    "    y = y.loc[mask]\n",
    "    X_exposures = X_exposures.loc[mask]\n",
    "    X_covariates = X_covariates.loc[mask]\n",
    "\n",
    "    if y.shape[0] == 0:\n",
    "        continue\n",
    "\n",
    "    # Step 1: Residualize MRI by covariates (linear adjustment)\n",
    "    cov_imputer = SimpleImputer(strategy='median')\n",
    "    X_cov_imputed = cov_imputer.fit_transform(X_covariates)\n",
    "    cov_scaler = StandardScaler()\n",
    "    X_cov_std = cov_scaler.fit_transform(X_cov_imputed)\n",
    "\n",
    "    cov_model = LinearRegression()\n",
    "    cov_model.fit(X_cov_std, y)\n",
    "    y_resid = y - cov_model.predict(X_cov_std)\n",
    "\n",
    "    # Step 2: Pick top exposure (highest correlation with residuals)\n",
    "    corr_values = X_exposures.corrwith(pd.Series(y_resid, index=y.index))\n",
    "    top_exposure = corr_values.abs().idxmax()\n",
    "    X_top = X_exposures[[top_exposure]]\n",
    "\n",
    "    # Step 3: Impute + scale exposures\n",
    "    exp_imputer = SimpleImputer(strategy='median')\n",
    "    X_top_imputed = exp_imputer.fit_transform(X_top)\n",
    "    exp_scaler = StandardScaler()\n",
    "    X_top_std = exp_scaler.fit_transform(X_top_imputed)\n",
    "\n",
    "    # Step 4: Random Forest with 10-fold CV\n",
    "    model = RandomForestRegressor(\n",
    "        n_estimators=500,\n",
    "        max_depth=None,\n",
    "        random_state=RANDOM_STATE\n",
    "    )\n",
    "    kf = KFold(n_splits=N_SPLITS, shuffle=True, random_state=RANDOM_STATE)\n",
    "\n",
    "    r2_scores = cross_val_score(model, X_top_std, y_resid, cv=kf, scoring=\"r2\")\n",
    "    rmse_scores = cross_val_score(model, X_top_std, y_resid, cv=kf, scoring=rmse_scorer)\n",
    "    mae_scores = cross_val_score(model, X_top_std, y_resid, cv=kf, scoring=mae_scorer)\n",
    "\n",
    "    results_rf.append({\n",
    "        \"MRI Target\": mri_target,\n",
    "        \"Top Exposure\": top_exposure,\n",
    "        \"R² Mean\": np.mean(r2_scores),\n",
    "        \"RMSE Mean\": -np.mean(rmse_scores),\n",
    "        \"MAE Mean\": -np.mean(mae_scores),\n",
    "        \"Mean MRI Value\": y.mean()\n",
    "    })\n",
    "\n",
    "# Results dataframe\n",
    "results_rf_df = pd.DataFrame(results_rf).sort_values(\"R² Mean\", ascending=False)\n",
    "results_rf_df = results_rf_df.round({\n",
    "    \"R² Mean\": 3,\n",
    "    \"RMSE Mean\": 3,\n",
    "    \"MAE Mean\": 3,\n",
    "    \"Mean MRI Value\": 3\n",
    "})\n",
    "\n",
    "pd.set_option('display.max_rows', None)\n",
    "results_rf_df.head()\n"
   ]
  },
  {
   "cell_type": "markdown",
   "id": "6231b4eb",
   "metadata": {},
   "source": [
    "Other non-linear models."
   ]
  },
  {
   "cell_type": "code",
   "execution_count": null,
   "id": "59e275fc",
   "metadata": {},
   "outputs": [
    {
     "data": {
      "text/html": [
       "<div>\n",
       "<style scoped>\n",
       "    .dataframe tbody tr th:only-of-type {\n",
       "        vertical-align: middle;\n",
       "    }\n",
       "\n",
       "    .dataframe tbody tr th {\n",
       "        vertical-align: top;\n",
       "    }\n",
       "\n",
       "    .dataframe thead th {\n",
       "        text-align: right;\n",
       "    }\n",
       "</style>\n",
       "<table border=\"1\" class=\"dataframe\">\n",
       "  <thead>\n",
       "    <tr style=\"text-align: right;\">\n",
       "      <th></th>\n",
       "      <th>MRI Target</th>\n",
       "      <th>Top Exposure</th>\n",
       "      <th>R² Random Forest</th>\n",
       "      <th>R² Gradient Boosting</th>\n",
       "      <th>R² SVR</th>\n",
       "      <th>R² KNN</th>\n",
       "    </tr>\n",
       "  </thead>\n",
       "  <tbody>\n",
       "    <tr>\n",
       "      <th>137</th>\n",
       "      <td>ThickAvg_lh_lateraloccipital</td>\n",
       "      <td>expo_bite</td>\n",
       "      <td>0.016</td>\n",
       "      <td>0.016</td>\n",
       "      <td>0.019</td>\n",
       "      <td>-0.152</td>\n",
       "    </tr>\n",
       "    <tr>\n",
       "      <th>174</th>\n",
       "      <td>ThickAvg_rh_medialorbitofrontal</td>\n",
       "      <td>expo_napp</td>\n",
       "      <td>0.016</td>\n",
       "      <td>0.017</td>\n",
       "      <td>0.019</td>\n",
       "      <td>-0.405</td>\n",
       "    </tr>\n",
       "    <tr>\n",
       "      <th>171</th>\n",
       "      <td>ThickAvg_rh_lateraloccipital</td>\n",
       "      <td>expo_bite</td>\n",
       "      <td>0.001</td>\n",
       "      <td>0.001</td>\n",
       "      <td>-0.003</td>\n",
       "      <td>-0.114</td>\n",
       "    </tr>\n",
       "    <tr>\n",
       "      <th>160</th>\n",
       "      <td>ThickAvg_lh_transversetemporal</td>\n",
       "      <td>expo_bite</td>\n",
       "      <td>-0.000</td>\n",
       "      <td>0.000</td>\n",
       "      <td>0.005</td>\n",
       "      <td>-0.287</td>\n",
       "    </tr>\n",
       "    <tr>\n",
       "      <th>194</th>\n",
       "      <td>ThickAvg_rh_transversetemporal</td>\n",
       "      <td>expo_sand</td>\n",
       "      <td>-0.001</td>\n",
       "      <td>-0.001</td>\n",
       "      <td>-0.003</td>\n",
       "      <td>-0.585</td>\n",
       "    </tr>\n",
       "  </tbody>\n",
       "</table>\n",
       "</div>"
      ],
      "text/plain": [
       "                          MRI Target Top Exposure  R² Random Forest  \\\n",
       "137     ThickAvg_lh_lateraloccipital    expo_bite             0.016   \n",
       "174  ThickAvg_rh_medialorbitofrontal    expo_napp             0.016   \n",
       "171     ThickAvg_rh_lateraloccipital    expo_bite             0.001   \n",
       "160   ThickAvg_lh_transversetemporal    expo_bite            -0.000   \n",
       "194   ThickAvg_rh_transversetemporal    expo_sand            -0.001   \n",
       "\n",
       "     R² Gradient Boosting  R² SVR  R² KNN  \n",
       "137                 0.016   0.019  -0.152  \n",
       "174                 0.017   0.019  -0.405  \n",
       "171                 0.001  -0.003  -0.114  \n",
       "160                 0.000   0.005  -0.287  \n",
       "194                -0.001  -0.003  -0.585  "
      ]
     },
     "execution_count": 223,
     "metadata": {},
     "output_type": "execute_result"
    }
   ],
   "source": [
    "import pandas as pd\n",
    "import numpy as np\n",
    "from sklearn.model_selection import KFold, cross_val_score\n",
    "from sklearn.preprocessing import StandardScaler\n",
    "from sklearn.impute import SimpleImputer\n",
    "from sklearn.ensemble import RandomForestRegressor, GradientBoostingRegressor\n",
    "from sklearn.svm import SVR\n",
    "from sklearn.neighbors import KNeighborsRegressor\n",
    "from sklearn.metrics import make_scorer, mean_squared_error\n",
    "from sklearn.linear_model import LinearRegression\n",
    "\n",
    "# ===== CONFIG =====\n",
    "N_SPLITS = 10\n",
    "RANDOM_STATE = 42\n",
    "\n",
    "# Custom RMSE scorer\n",
    "def rmse(y_true, y_pred):\n",
    "    return np.sqrt(mean_squared_error(y_true, y_pred))\n",
    "\n",
    "rmse_scorer = make_scorer(rmse, greater_is_better=False)\n",
    "\n",
    "results = []\n",
    "\n",
    "# Loop over MRI targets\n",
    "for mri_target in target:\n",
    "    y = pd.to_numeric(df[mri_target], errors='coerce')\n",
    "    X_exposures = df[feature].apply(pd.to_numeric, errors='coerce')\n",
    "    X_covariates = df[covariate_cols].apply(pd.to_numeric, errors='coerce')\n",
    "\n",
    "    # Drop missing in target\n",
    "    mask = y.notna()\n",
    "    y = y.loc[mask]\n",
    "    X_exposures = X_exposures.loc[mask]\n",
    "    X_covariates = X_covariates.loc[mask]\n",
    "\n",
    "    if y.shape[0] == 0:\n",
    "        continue\n",
    "\n",
    "    # Step 1: Residualize MRI by covariates (linear adjustment)\n",
    "    cov_imputer = SimpleImputer(strategy='median')\n",
    "    X_cov_imputed = cov_imputer.fit_transform(X_covariates)\n",
    "    cov_scaler = StandardScaler()\n",
    "    X_cov_std = cov_scaler.fit_transform(X_cov_imputed)\n",
    "\n",
    "    cov_model = LinearRegression()\n",
    "    cov_model.fit(X_cov_std, y)\n",
    "    y_resid = y - cov_model.predict(X_cov_std)\n",
    "\n",
    "    # Step 2: Pick top exposure (highest correlation with residuals)\n",
    "    corr_values = X_exposures.corrwith(pd.Series(y_resid, index=y.index))\n",
    "    top_exposure = corr_values.abs().idxmax()\n",
    "    X_top = X_exposures[[top_exposure]]\n",
    "\n",
    "    # Step 3: Impute + scale exposures\n",
    "    exp_imputer = SimpleImputer(strategy='median')\n",
    "    X_top_imputed = exp_imputer.fit_transform(X_top)\n",
    "    exp_scaler = StandardScaler()\n",
    "    X_top_std = exp_scaler.fit_transform(X_top_imputed)\n",
    "\n",
    "    # Step 4: Define models\n",
    "    models = {\n",
    "        \"R² Random Forest\": RandomForestRegressor(n_estimators=500, random_state=RANDOM_STATE),\n",
    "        \"R² Gradient Boosting\": GradientBoostingRegressor(\n",
    "            n_estimators=300, learning_rate=0.05, max_depth=3, random_state=RANDOM_STATE\n",
    "        ),\n",
    "        \"R² SVR\": SVR(kernel=\"rbf\", C=1.0, epsilon=0.1),\n",
    "        \"R² KNN\": KNeighborsRegressor(n_neighbors=5, weights=\"distance\"),\n",
    "    }\n",
    "\n",
    "    # Step 5: Cross-validation for each model\n",
    "    kf = KFold(n_splits=N_SPLITS, shuffle=True, random_state=RANDOM_STATE)\n",
    "    row = {\"MRI Target\": mri_target, \"Top Exposure\": top_exposure}\n",
    "    for model_name, model in models.items():\n",
    "        r2_scores = cross_val_score(model, X_top_std, y_resid, cv=kf, scoring=\"r2\")\n",
    "        row[model_name] = np.mean(r2_scores)\n",
    "    results.append(row)\n",
    "\n",
    "# Results dataframe (wide format, only R²)\n",
    "results_df = pd.DataFrame(results).round(3)\n",
    "results_df = results_df.sort_values(by=[\"R² Random Forest\"], ascending=False)\n",
    "\n",
    "pd.set_option('display.max_rows', None)\n",
    "results_df.head()\n"
   ]
  }
 ],
 "metadata": {
  "colab": {
   "provenance": []
  },
  "kernelspec": {
   "display_name": "Python 3",
   "language": "python",
   "name": "python3"
  },
  "language_info": {
   "codemirror_mode": {
    "name": "ipython",
    "version": 3
   },
   "file_extension": ".py",
   "mimetype": "text/x-python",
   "name": "python",
   "nbconvert_exporter": "python",
   "pygments_lexer": "ipython3",
   "version": "3.13.5"
  }
 },
 "nbformat": 4,
 "nbformat_minor": 5
}
